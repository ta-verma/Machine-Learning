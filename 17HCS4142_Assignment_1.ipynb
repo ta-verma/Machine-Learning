{
 "cells": [
  {
   "cell_type": "code",
   "execution_count": 0,
   "metadata": {
    "colab": {},
    "colab_type": "code",
    "id": "avLx9Cc3QtQ0"
   },
   "outputs": [],
   "source": [
    "import numpy as np\n",
    "import pandas as pd\n",
    "import matplotlib.pyplot as plt\n",
    "from prettytable import PrettyTable\n",
    "from sklearn import model_selection\n",
    "from sklearn.linear_model import Ridge, Lasso\n",
    "from sklearn.preprocessing import StandardScaler\n",
    "from sklearn.model_selection import train_test_split \n",
    "from sklearn.model_selection import GridSearchCV, cross_val_score"
   ]
  },
  {
   "cell_type": "markdown",
   "metadata": {
    "colab_type": "text",
    "id": "iu_UJgP3WRPz"
   },
   "source": [
    "#Question 1"
   ]
  },
  {
   "cell_type": "code",
   "execution_count": 0,
   "metadata": {
    "colab": {},
    "colab_type": "code",
    "id": "nzMAd_JbRfHs"
   },
   "outputs": [],
   "source": [
    "data = pd.read_csv(\"https://raw.githubusercontent.com/ta-verma/DataSets/master/abalone.csv\")"
   ]
  },
  {
   "cell_type": "code",
   "execution_count": 0,
   "metadata": {
    "colab": {},
    "colab_type": "code",
    "id": "HhRmEa5XCdjz"
   },
   "outputs": [],
   "source": [
    "scaler = StandardScaler()"
   ]
  },
  {
   "cell_type": "code",
   "execution_count": 4,
   "metadata": {
    "colab": {
     "base_uri": "https://localhost:8080/",
     "height": 221
    },
    "colab_type": "code",
    "id": "czX6u_PnRwXp",
    "outputId": "64dd8d8f-ceb8-4e9a-940c-74cd40c204a1"
   },
   "outputs": [
    {
     "name": "stdout",
     "output_type": "stream",
     "text": [
      "(4177, 9)\n"
     ]
    },
    {
     "data": {
      "text/html": [
       "<div>\n",
       "<style scoped>\n",
       "    .dataframe tbody tr th:only-of-type {\n",
       "        vertical-align: middle;\n",
       "    }\n",
       "\n",
       "    .dataframe tbody tr th {\n",
       "        vertical-align: top;\n",
       "    }\n",
       "\n",
       "    .dataframe thead th {\n",
       "        text-align: right;\n",
       "    }\n",
       "</style>\n",
       "<table border=\"1\" class=\"dataframe\">\n",
       "  <thead>\n",
       "    <tr style=\"text-align: right;\">\n",
       "      <th></th>\n",
       "      <th>Sex</th>\n",
       "      <th>Length</th>\n",
       "      <th>Diameter</th>\n",
       "      <th>Height</th>\n",
       "      <th>Whole weight</th>\n",
       "      <th>Shucked weight</th>\n",
       "      <th>Viscera weight</th>\n",
       "      <th>Shell weight</th>\n",
       "      <th>Rings</th>\n",
       "    </tr>\n",
       "  </thead>\n",
       "  <tbody>\n",
       "    <tr>\n",
       "      <th>0</th>\n",
       "      <td>M</td>\n",
       "      <td>0.455</td>\n",
       "      <td>0.365</td>\n",
       "      <td>0.095</td>\n",
       "      <td>0.5140</td>\n",
       "      <td>0.2245</td>\n",
       "      <td>0.1010</td>\n",
       "      <td>0.150</td>\n",
       "      <td>15</td>\n",
       "    </tr>\n",
       "    <tr>\n",
       "      <th>1</th>\n",
       "      <td>M</td>\n",
       "      <td>0.350</td>\n",
       "      <td>0.265</td>\n",
       "      <td>0.090</td>\n",
       "      <td>0.2255</td>\n",
       "      <td>0.0995</td>\n",
       "      <td>0.0485</td>\n",
       "      <td>0.070</td>\n",
       "      <td>7</td>\n",
       "    </tr>\n",
       "    <tr>\n",
       "      <th>2</th>\n",
       "      <td>F</td>\n",
       "      <td>0.530</td>\n",
       "      <td>0.420</td>\n",
       "      <td>0.135</td>\n",
       "      <td>0.6770</td>\n",
       "      <td>0.2565</td>\n",
       "      <td>0.1415</td>\n",
       "      <td>0.210</td>\n",
       "      <td>9</td>\n",
       "    </tr>\n",
       "    <tr>\n",
       "      <th>3</th>\n",
       "      <td>M</td>\n",
       "      <td>0.440</td>\n",
       "      <td>0.365</td>\n",
       "      <td>0.125</td>\n",
       "      <td>0.5160</td>\n",
       "      <td>0.2155</td>\n",
       "      <td>0.1140</td>\n",
       "      <td>0.155</td>\n",
       "      <td>10</td>\n",
       "    </tr>\n",
       "    <tr>\n",
       "      <th>4</th>\n",
       "      <td>I</td>\n",
       "      <td>0.330</td>\n",
       "      <td>0.255</td>\n",
       "      <td>0.080</td>\n",
       "      <td>0.2050</td>\n",
       "      <td>0.0895</td>\n",
       "      <td>0.0395</td>\n",
       "      <td>0.055</td>\n",
       "      <td>7</td>\n",
       "    </tr>\n",
       "  </tbody>\n",
       "</table>\n",
       "</div>"
      ],
      "text/plain": [
       "  Sex  Length  Diameter  ...  Viscera weight  Shell weight  Rings\n",
       "0   M   0.455     0.365  ...          0.1010         0.150     15\n",
       "1   M   0.350     0.265  ...          0.0485         0.070      7\n",
       "2   F   0.530     0.420  ...          0.1415         0.210      9\n",
       "3   M   0.440     0.365  ...          0.1140         0.155     10\n",
       "4   I   0.330     0.255  ...          0.0395         0.055      7\n",
       "\n",
       "[5 rows x 9 columns]"
      ]
     },
     "execution_count": 4,
     "metadata": {
      "tags": []
     },
     "output_type": "execute_result"
    }
   ],
   "source": [
    "print(data.shape)\n",
    "data.head()"
   ]
  },
  {
   "cell_type": "code",
   "execution_count": 5,
   "metadata": {
    "colab": {
     "base_uri": "https://localhost:8080/",
     "height": 187
    },
    "colab_type": "code",
    "id": "x6fDnbh8R5jv",
    "outputId": "dde36fc9-fd58-499e-a96d-32a11d4a95c8"
   },
   "outputs": [
    {
     "data": {
      "text/plain": [
       "Sex                object\n",
       "Length            float64\n",
       "Diameter          float64\n",
       "Height            float64\n",
       "Whole weight      float64\n",
       "Shucked weight    float64\n",
       "Viscera weight    float64\n",
       "Shell weight      float64\n",
       "Rings               int64\n",
       "dtype: object"
      ]
     },
     "execution_count": 5,
     "metadata": {
      "tags": []
     },
     "output_type": "execute_result"
    }
   ],
   "source": [
    "data.dtypes"
   ]
  },
  {
   "cell_type": "code",
   "execution_count": 6,
   "metadata": {
    "colab": {
     "base_uri": "https://localhost:8080/",
     "height": 289
    },
    "colab_type": "code",
    "id": "cRViKcB1R7jD",
    "outputId": "01b9d231-39cb-434b-a039-4b5bf90ad13a"
   },
   "outputs": [
    {
     "name": "stdout",
     "output_type": "stream",
     "text": [
      "<class 'pandas.core.frame.DataFrame'>\n",
      "RangeIndex: 4177 entries, 0 to 4176\n",
      "Data columns (total 9 columns):\n",
      " #   Column          Non-Null Count  Dtype  \n",
      "---  ------          --------------  -----  \n",
      " 0   Sex             4177 non-null   object \n",
      " 1   Length          4177 non-null   float64\n",
      " 2   Diameter        4177 non-null   float64\n",
      " 3   Height          4177 non-null   float64\n",
      " 4   Whole weight    4177 non-null   float64\n",
      " 5   Shucked weight  4177 non-null   float64\n",
      " 6   Viscera weight  4177 non-null   float64\n",
      " 7   Shell weight    4177 non-null   float64\n",
      " 8   Rings           4177 non-null   int64  \n",
      "dtypes: float64(7), int64(1), object(1)\n",
      "memory usage: 293.8+ KB\n"
     ]
    }
   ],
   "source": [
    "data.info()"
   ]
  },
  {
   "cell_type": "code",
   "execution_count": 7,
   "metadata": {
    "colab": {
     "base_uri": "https://localhost:8080/",
     "height": 544
    },
    "colab_type": "code",
    "id": "F8gxik9cR-L1",
    "outputId": "9e8f4c1f-561f-451f-c3e3-663c0871e998"
   },
   "outputs": [
    {
     "data": {
      "image/png": "[encoded data removed]",
      "text/plain": [
       "<Figure size 1440x1440 with 7 Axes>"
      ]
     },
     "metadata": {
      "needs_background": "light",
      "tags": []
     },
     "output_type": "display_data"
    }
   ],
   "source": [
    "fig = plt.figure(figsize=(20,20))\n",
    "i=1\n",
    "colmap = {1:'r', 2:'g', 3:'b', 4:'y', 5:'c', 6:'#F835F5', 7:'#5335F8'}\n",
    "for col in data.columns:\n",
    "  if col not in ['Rings','Sex']:\n",
    "    plt.subplot(4, 4, i)\n",
    "    plt.title(col)\n",
    "    plt.scatter(data[col],data['Rings'],color = colmap[i] )\n",
    "    plt.xlabel(col)\n",
    "    plt.ylabel('Rings')\n",
    "    i=i+1\n",
    "\n",
    "plt.subplots_adjust(hspace=1)\n",
    "plt.show()"
   ]
  },
  {
   "cell_type": "markdown",
   "metadata": {
    "colab_type": "text",
    "id": "HiRRLeR6R1Ty"
   },
   "source": [
    "Dividing the dataset into training\n",
    "and testing (80-20) "
   ]
  },
  {
   "cell_type": "code",
   "execution_count": 0,
   "metadata": {
    "colab": {},
    "colab_type": "code",
    "id": "yBXKaJvMmHa4"
   },
   "outputs": [],
   "source": [
    "data = data.drop(\"Sex\", axis=1)\n",
    "X = data.iloc[:,0].values\n",
    "y = data[\"Rings\"].values\n",
    "X = (X-np.min(X))/(np.max(X)-np.min(X))\n",
    "X_train, X_test, y_train, y_test = train_test_split(X, y, test_size=0.2, random_state=5) "
   ]
  },
  {
   "cell_type": "code",
   "execution_count": 0,
   "metadata": {
    "colab": {},
    "colab_type": "code",
    "id": "uunmRnEVCIuj"
   },
   "outputs": [],
   "source": [
    "def rmse(y_pred, y_act):\n",
    " \n",
    "    n = len(y_act)\n",
    "    rmse = np.sqrt((np.sum((y_act - y_pred) ** 2) / n)) \n",
    "\n",
    "    return rmse "
   ]
  },
  {
   "cell_type": "code",
   "execution_count": 0,
   "metadata": {
    "colab": {},
    "colab_type": "code",
    "id": "1fP0tnmFS9aQ"
   },
   "outputs": [],
   "source": [
    "def gradient_descent(X_train, X_test, y_train, y_test, epochs=10000, alpha=0.01):\n",
    "  b0 = 0\n",
    "  b1 = 0\n",
    "\n",
    "  train_rmse = []\n",
    "  test_rmse = []\n",
    "\n",
    "  \n",
    "  n = len(X_train)\n",
    "\n",
    "  # gradient descent\n",
    "  for i in range(epochs):\n",
    "    y_pred_train = b0*X_train + b1\n",
    "    y_pred_test = b0*X_test +b1 \n",
    "    D_b0 = (-2/n) * sum(X_train * (y_train - y_pred_train)) \n",
    "    D_b1 = (-2/n) * sum(y_train - y_pred_train)  \n",
    "    b0 = b0 - alpha * D_b0  \n",
    "    b1 = b1 - alpha * D_b1 \n",
    "\n",
    "    train_rmse.append(rmse(y_pred_train, y_train))\n",
    "    test_rmse.append(rmse(y_pred_test, y_test))\n",
    "\n",
    "  x = PrettyTable([\"b0\",\"b1\"])\n",
    "  x.add_row([b0,b1])\n",
    "  print(x)\n",
    " \n",
    "  y_pred = b0*X_train + b1\n",
    "  plt.scatter(X_train, y_train, c='c', label = \"scatter plot\")\n",
    "  plt.plot([min(X_train), max(X_train)], [min(y_pred), max(y_pred)], color='red', label = \"regression line\") # predicted\n",
    "  plt.ylabel(\"Rings\")\n",
    "  plt.xlabel(\"Length\")\n",
    "  plt.title(\"Linear Regression\")\n",
    "  plt.legend()\n",
    "  plt.show()\n",
    "\n",
    "  return train_rmse, test_rmse, rmse(y_pred_train, y_train), rmse(y_pred_test, y_test)    "
   ]
  },
  {
   "cell_type": "code",
   "execution_count": 0,
   "metadata": {
    "colab": {},
    "colab_type": "code",
    "id": "j6k6pVAXH6GA"
   },
   "outputs": [],
   "source": [
    "def gradient_descent_with_regularization(X_train, X_test, y_train, y_test, lmda, epochs=10000, alpha=0.01):\n",
    "  b0 = 0\n",
    "  b1 = 0\n",
    "\n",
    "  train_rmse = []\n",
    "  test_rmse = []\n",
    "\n",
    "  \n",
    "  n = len(X_train)\n",
    "\n",
    "  # gradient descent\n",
    "  for i in range(epochs):\n",
    "    y_pred_train = b0*X_train + b1\n",
    "    y_pred_test = b0*X_test +b1 \n",
    "    D_b0 = (-2/n) * sum(X_train * (y_train - y_pred_train)) \n",
    "    D_b1 = (-2/n) * sum(y_train - y_pred_train)  \n",
    "    b0 = b0*(1 - alpha*(lmda/n)) - alpha*D_b0\n",
    "    b1 = b1*(1 - alpha*(lmda/n)) - alpha*D_b1 \n",
    "\n",
    "    train_rmse.append(rmse(y_pred_train, y_train))\n",
    "    test_rmse.append(rmse(y_pred_test, y_test))\n",
    "\n",
    "  x = PrettyTable([\"b0\",\"b1\"])\n",
    "  x.add_row([b0,b1])\n",
    "  print(x)\n",
    "  \n",
    "  print()\n",
    "\n",
    "  y_pred = b0*X_train + b1\n",
    "  plt.scatter(X_train, y_train, c='c', label = \"scatter plot\")\n",
    "  plt.plot([min(X_train), max(X_train)], [min(y_pred), max(y_pred)], color='red', label = \"regression line\") # predicted\n",
    "  plt.ylabel(\"Rings\")\n",
    "  plt.xlabel(\"Features\")\n",
    "  plt.title(\"Linear Regression\")\n",
    "  plt.legend()\n",
    "  plt.show()\n",
    "\n",
    "  return train_rmse, test_rmse \n",
    "\n",
    "\n",
    "def gradient_descent_normal_form(X_train, X_test, y_train, y_test, epochs, alpha):\n",
    "    \n",
    "  theta = np.zeros((X_train.shape[1], 1))\n",
    "  m = len(X_train)\n",
    "  train_rmse = []\n",
    "  test_rmse = []\n",
    "  y_pred_train = X_train @ theta\n",
    "\n",
    "\n",
    "  for i in range(epochs):\n",
    "      theta = theta - (1 / m) * alpha * (X_train.T @ (y_pred_train - y_train))\n",
    "      y_pred_train = X_train @ theta\n",
    "      y_pred_test = X_test @ theta\n",
    "\n",
    "      train_rmse.append(rmse(y_pred_train, y_train))\n",
    "      test_rmse.append(rmse(y_pred_test, y_test))\n",
    "\n",
    "  print(\"Parameters :\", *theta)\n",
    "  print()\n",
    "\n",
    "  return train_rmse, test_rmse, rmse(y_pred_train, y_train), rmse(y_pred_test, y_test)   "
   ]
  },
  {
   "cell_type": "code",
   "execution_count": 12,
   "metadata": {
    "colab": {
     "base_uri": "https://localhost:8080/",
     "height": 380
    },
    "colab_type": "code",
    "id": "Da9kKlEb_x7m",
    "outputId": "2b241040-b024-4437-cae8-aa953d42a1d1"
   },
   "outputs": [
    {
     "name": "stdout",
     "output_type": "stream",
     "text": [
      "+--------------------+-------------------+\n",
      "|         b0         |         b1        |\n",
      "+--------------------+-------------------+\n",
      "| 6.6283834178646215 | 5.957438807547216 |\n",
      "+--------------------+-------------------+\n"
     ]
    },
    {
     "data": {
      "image/png": "[encoded data removed]",
      "text/plain": [
       "<Figure size 432x288 with 1 Axes>"
      ]
     },
     "metadata": {
      "needs_background": "light",
      "tags": []
     },
     "output_type": "display_data"
    }
   ],
   "source": [
    "epochs = 10000 # iteration\n",
    "alpha = 0.001   # learning rate\n",
    "\n",
    "train_rmse_n, test_rmse_n, train_rmse_k, test_rmse_k = gradient_descent(X_train, X_test, y_train, y_test,epochs,alpha)"
   ]
  },
  {
   "cell_type": "markdown",
   "metadata": {
    "colab_type": "text",
    "id": "5Zt4zFOtSFXR"
   },
   "source": [
    "**Plots for the root mean squared error (RMSE) vs.\n",
    "gradient descent iterations for both training as well as testing\n",
    "set**"
   ]
  },
  {
   "cell_type": "code",
   "execution_count": 13,
   "metadata": {
    "colab": {
     "base_uri": "https://localhost:8080/",
     "height": 279
    },
    "colab_type": "code",
    "id": "kNpgLpQ-chRt",
    "outputId": "9b521af4-928f-4406-fbd9-49078c60959a"
   },
   "outputs": [
    {
     "data": {
      "image/png": "[encoded data removed]",
      "text/plain": [
       "<Figure size 432x288 with 1 Axes>"
      ]
     },
     "metadata": {
      "needs_background": "light",
      "tags": []
     },
     "output_type": "display_data"
    }
   ],
   "source": [
    "plt.plot(range(epochs), train_rmse_n, c='b', label='Training RMSE')\n",
    "plt.plot(range(epochs), test_rmse_n, c='r', label='Testing RMSE')\n",
    "plt.xlabel('Epochs')\n",
    "plt.ylabel('RMSE')\n",
    "plt.legend()\n",
    "plt.show()"
   ]
  },
  {
   "cell_type": "markdown",
   "metadata": {
    "colab_type": "text",
    "id": "Lb7nx4O545VO"
   },
   "source": [
    "##Normal Equation (closed form) for linear regression"
   ]
  },
  {
   "cell_type": "code",
   "execution_count": 0,
   "metadata": {
    "colab": {},
    "colab_type": "code",
    "id": "kWXz9jIN5Aut"
   },
   "outputs": [],
   "source": [
    "def c_rmse(X, y, theta):\n",
    "    m = len(X)\n",
    "    h = X @ theta\n",
    "    return np.sqrt(np.sum((h - y) ** 2) / m)\n",
    "\n",
    "\n",
    "def normal_equation(X, y):\n",
    "    m = len(X)\n",
    "    theta = ((np.linalg.inv(X.T @ X)) @ X.T) @ y\n",
    "    h = X @ theta\n",
    "    return theta"
   ]
  },
  {
   "cell_type": "code",
   "execution_count": 0,
   "metadata": {
    "colab": {},
    "colab_type": "code",
    "id": "_LMqey8q5MfS"
   },
   "outputs": [],
   "source": [
    "X = data.iloc[:,0].values\n",
    "y = data['Rings'].values\n",
    "\n",
    "X = (X-np.min(X))/(np.max(X)-np.min(X))\n",
    "y = np.reshape(y, (len(y), 1))\n",
    "\n",
    "one = np.ones(len(X))\n",
    "X = np.vstack((one, X)).T"
   ]
  },
  {
   "cell_type": "markdown",
   "metadata": {
    "colab_type": "text",
    "id": "UOVejdL1UunH"
   },
   "source": [
    "Parameters"
   ]
  },
  {
   "cell_type": "code",
   "execution_count": 16,
   "metadata": {
    "colab": {
     "base_uri": "https://localhost:8080/",
     "height": 51
    },
    "colab_type": "code",
    "id": "IAaI5owX5YKj",
    "outputId": "4121d3cf-0835-4fce-f1dc-d48c965c503b"
   },
   "outputs": [
    {
     "name": "stdout",
     "output_type": "stream",
     "text": [
      "Parameters : [6.5575508] [5.6764643]\n",
      "\n"
     ]
    }
   ],
   "source": [
    "X_train, X_test, y_train, y_test = train_test_split(X, y, test_size=0.2, random_state=1)\n",
    "train_rmse, test_rmse, train_rmse_n, test_rmse_n = gradient_descent_normal_form(X_train, X_test, y_train, y_test, epochs = 10000, alpha = 0.001)"
   ]
  },
  {
   "cell_type": "code",
   "execution_count": 17,
   "metadata": {
    "colab": {
     "base_uri": "https://localhost:8080/",
     "height": 279
    },
    "colab_type": "code",
    "id": "tdqaMMlG5dHT",
    "outputId": "ff468bf6-d601-4479-943e-12f67496b94f"
   },
   "outputs": [
    {
     "data": {
      "image/png": "[encoded data removed]",
      "text/plain": [
       "<Figure size 432x288 with 1 Axes>"
      ]
     },
     "metadata": {
      "needs_background": "light",
      "tags": []
     },
     "output_type": "display_data"
    }
   ],
   "source": [
    "plt.plot(range(epochs), train_rmse, c='r', label='Training RMSE')\n",
    "plt.plot(range(epochs), test_rmse, c='b', label='Testing RMSE')\n",
    "plt.xlabel('Epochs')\n",
    "plt.ylabel('RMSE')\n",
    "plt.legend()\n",
    "plt.show()"
   ]
  },
  {
   "cell_type": "code",
   "execution_count": 0,
   "metadata": {
    "colab": {},
    "colab_type": "code",
    "id": "CkvE1iF9__o9"
   },
   "outputs": [],
   "source": [
    "theta = normal_equation(X_train, y_train)\n",
    "k1 = c_rmse(X_train, y_train, theta)\n",
    "k2 = c_rmse(X_test, y_test, theta)"
   ]
  },
  {
   "cell_type": "markdown",
   "metadata": {
    "colab_type": "text",
    "id": "vGBk2gQKaO-a"
   },
   "source": [
    "**RMSE**"
   ]
  },
  {
   "cell_type": "code",
   "execution_count": 19,
   "metadata": {
    "colab": {
     "base_uri": "https://localhost:8080/",
     "height": 111
    },
    "colab_type": "code",
    "id": "7tXTu_BYW2fA",
    "outputId": "cc44ca77-722f-485b-c3ec-619c62ba8bcc"
   },
   "outputs": [
    {
     "data": {
      "text/html": [
       "<div>\n",
       "<style scoped>\n",
       "    .dataframe tbody tr th:only-of-type {\n",
       "        vertical-align: middle;\n",
       "    }\n",
       "\n",
       "    .dataframe tbody tr th {\n",
       "        vertical-align: top;\n",
       "    }\n",
       "\n",
       "    .dataframe thead th {\n",
       "        text-align: right;\n",
       "    }\n",
       "</style>\n",
       "<table border=\"1\" class=\"dataframe\">\n",
       "  <thead>\n",
       "    <tr style=\"text-align: right;\">\n",
       "      <th></th>\n",
       "      <th>Training Set</th>\n",
       "      <th>Testing Set</th>\n",
       "    </tr>\n",
       "  </thead>\n",
       "  <tbody>\n",
       "    <tr>\n",
       "      <th>gradient descent</th>\n",
       "      <td>2.758757</td>\n",
       "      <td>2.830493</td>\n",
       "    </tr>\n",
       "    <tr>\n",
       "      <th>Normal equation</th>\n",
       "      <td>2.687083</td>\n",
       "      <td>2.641766</td>\n",
       "    </tr>\n",
       "  </tbody>\n",
       "</table>\n",
       "</div>"
      ],
      "text/plain": [
       "                  Training Set  Testing Set\n",
       "gradient descent      2.758757     2.830493\n",
       "Normal equation       2.687083     2.641766"
      ]
     },
     "execution_count": 19,
     "metadata": {
      "tags": []
     },
     "output_type": "execute_result"
    }
   ],
   "source": [
    "d = [[train_rmse_k, test_rmse_k ], [k1,k2 ] ]\n",
    "rmse_df = pd.DataFrame(d,index=[\"gradient descent\" ,\"Normal equation\"], columns=[\"Training Set\", \"Testing Set\"])\n",
    "rmse_df"
   ]
  },
  {
   "cell_type": "markdown",
   "metadata": {
    "colab_type": "text",
    "id": "b9qh2ufT7w5_"
   },
   "source": [
    "#Question 2\n"
   ]
  },
  {
   "cell_type": "code",
   "execution_count": 20,
   "metadata": {
    "colab": {
     "base_uri": "https://localhost:8080/",
     "height": 204
    },
    "colab_type": "code",
    "id": "3tTIYrfLDyaF",
    "outputId": "153021dd-a2ea-4c62-b277-2f628cde84f3"
   },
   "outputs": [
    {
     "data": {
      "text/html": [
       "<div>\n",
       "<style scoped>\n",
       "    .dataframe tbody tr th:only-of-type {\n",
       "        vertical-align: middle;\n",
       "    }\n",
       "\n",
       "    .dataframe tbody tr th {\n",
       "        vertical-align: top;\n",
       "    }\n",
       "\n",
       "    .dataframe thead th {\n",
       "        text-align: right;\n",
       "    }\n",
       "</style>\n",
       "<table border=\"1\" class=\"dataframe\">\n",
       "  <thead>\n",
       "    <tr style=\"text-align: right;\">\n",
       "      <th></th>\n",
       "      <th>Length</th>\n",
       "      <th>Diameter</th>\n",
       "      <th>Height</th>\n",
       "      <th>Whole weight</th>\n",
       "      <th>Shucked weight</th>\n",
       "      <th>Viscera weight</th>\n",
       "      <th>Shell weight</th>\n",
       "      <th>Rings</th>\n",
       "    </tr>\n",
       "  </thead>\n",
       "  <tbody>\n",
       "    <tr>\n",
       "      <th>0</th>\n",
       "      <td>0.455</td>\n",
       "      <td>0.365</td>\n",
       "      <td>0.095</td>\n",
       "      <td>0.5140</td>\n",
       "      <td>0.2245</td>\n",
       "      <td>0.1010</td>\n",
       "      <td>0.150</td>\n",
       "      <td>15</td>\n",
       "    </tr>\n",
       "    <tr>\n",
       "      <th>1</th>\n",
       "      <td>0.350</td>\n",
       "      <td>0.265</td>\n",
       "      <td>0.090</td>\n",
       "      <td>0.2255</td>\n",
       "      <td>0.0995</td>\n",
       "      <td>0.0485</td>\n",
       "      <td>0.070</td>\n",
       "      <td>7</td>\n",
       "    </tr>\n",
       "    <tr>\n",
       "      <th>2</th>\n",
       "      <td>0.530</td>\n",
       "      <td>0.420</td>\n",
       "      <td>0.135</td>\n",
       "      <td>0.6770</td>\n",
       "      <td>0.2565</td>\n",
       "      <td>0.1415</td>\n",
       "      <td>0.210</td>\n",
       "      <td>9</td>\n",
       "    </tr>\n",
       "    <tr>\n",
       "      <th>3</th>\n",
       "      <td>0.440</td>\n",
       "      <td>0.365</td>\n",
       "      <td>0.125</td>\n",
       "      <td>0.5160</td>\n",
       "      <td>0.2155</td>\n",
       "      <td>0.1140</td>\n",
       "      <td>0.155</td>\n",
       "      <td>10</td>\n",
       "    </tr>\n",
       "    <tr>\n",
       "      <th>4</th>\n",
       "      <td>0.330</td>\n",
       "      <td>0.255</td>\n",
       "      <td>0.080</td>\n",
       "      <td>0.2050</td>\n",
       "      <td>0.0895</td>\n",
       "      <td>0.0395</td>\n",
       "      <td>0.055</td>\n",
       "      <td>7</td>\n",
       "    </tr>\n",
       "  </tbody>\n",
       "</table>\n",
       "</div>"
      ],
      "text/plain": [
       "   Length  Diameter  Height  ...  Viscera weight  Shell weight  Rings\n",
       "0   0.455     0.365   0.095  ...          0.1010         0.150     15\n",
       "1   0.350     0.265   0.090  ...          0.0485         0.070      7\n",
       "2   0.530     0.420   0.135  ...          0.1415         0.210      9\n",
       "3   0.440     0.365   0.125  ...          0.1140         0.155     10\n",
       "4   0.330     0.255   0.080  ...          0.0395         0.055      7\n",
       "\n",
       "[5 rows x 8 columns]"
      ]
     },
     "execution_count": 20,
     "metadata": {
      "tags": []
     },
     "output_type": "execute_result"
    }
   ],
   "source": [
    "data.head()"
   ]
  },
  {
   "cell_type": "code",
   "execution_count": 0,
   "metadata": {
    "colab": {},
    "colab_type": "code",
    "id": "ljD03fYSFICm"
   },
   "outputs": [],
   "source": [
    "import warnings\n",
    "warnings.filterwarnings('ignore')"
   ]
  },
  {
   "cell_type": "code",
   "execution_count": 0,
   "metadata": {
    "colab": {},
    "colab_type": "code",
    "id": "d-7GlRWvBoWM"
   },
   "outputs": [],
   "source": [
    "X = data.iloc[:,0:1].values\n",
    "y = data[\"Rings\"].values\n",
    "\n",
    "scaler.fit_transform(X)\n",
    "X_train, X_test, y_train, y_test = train_test_split(X, y, test_size=0.2, random_state=5)"
   ]
  },
  {
   "cell_type": "markdown",
   "metadata": {
    "colab_type": "text",
    "id": "mfVerPHEPquh"
   },
   "source": [
    "**Lasso Regression or L1**"
   ]
  },
  {
   "cell_type": "code",
   "execution_count": 0,
   "metadata": {
    "colab": {},
    "colab_type": "code",
    "id": "_mlMB3Kr_fWZ"
   },
   "outputs": [],
   "source": [
    "lasso = Lasso(max_iter=10000, random_state=5)\n",
    "\n",
    "alphas = np.array([1,0.1,0.01,0.001,0.0001,0])\n",
    "tuned_parameters = [{'alpha': alphas }]\n",
    "\n",
    "n_folds = 5\n",
    "grid_search = GridSearchCV(estimator = lasso, param_grid= tuned_parameters, cv=n_folds, refit=True)"
   ]
  },
  {
   "cell_type": "code",
   "execution_count": 24,
   "metadata": {
    "colab": {
     "base_uri": "https://localhost:8080/",
     "height": 170
    },
    "colab_type": "code",
    "id": "FV3HYKjo_P9K",
    "outputId": "36d49563-62cb-4432-81fa-edef8e810573"
   },
   "outputs": [
    {
     "data": {
      "text/plain": [
       "GridSearchCV(cv=5, error_score=nan,\n",
       "             estimator=Lasso(alpha=1.0, copy_X=True, fit_intercept=True,\n",
       "                             max_iter=10000, normalize=False, positive=False,\n",
       "                             precompute=False, random_state=5,\n",
       "                             selection='cyclic', tol=0.0001, warm_start=False),\n",
       "             iid='deprecated', n_jobs=None,\n",
       "             param_grid=[{'alpha': array([1.e+00, 1.e-01, 1.e-02, 1.e-03, 1.e-04, 0.e+00])}],\n",
       "             pre_dispatch='2*n_jobs', refit=True, return_train_score=False,\n",
       "             scoring=None, verbose=0)"
      ]
     },
     "execution_count": 24,
     "metadata": {
      "tags": []
     },
     "output_type": "execute_result"
    }
   ],
   "source": [
    "grid_search.fit(X_train, y_train)"
   ]
  },
  {
   "cell_type": "code",
   "execution_count": 25,
   "metadata": {
    "colab": {
     "base_uri": "https://localhost:8080/",
     "height": 34
    },
    "colab_type": "code",
    "id": "u66wu0DFRSNL",
    "outputId": "0fbd74bc-de83-45c9-988f-1fcec4a07339"
   },
   "outputs": [
    {
     "data": {
      "text/plain": [
       "0.3183645939834257"
      ]
     },
     "execution_count": 25,
     "metadata": {
      "tags": []
     },
     "output_type": "execute_result"
    }
   ],
   "source": [
    "grid_search.best_score_"
   ]
  },
  {
   "cell_type": "markdown",
   "metadata": {
    "colab_type": "text",
    "id": "SHdbAH-VUj36"
   },
   "source": [
    "**The optimal regularization parameter for L1**"
   ]
  },
  {
   "cell_type": "code",
   "execution_count": 26,
   "metadata": {
    "colab": {
     "base_uri": "https://localhost:8080/",
     "height": 34
    },
    "colab_type": "code",
    "id": "z2qtmc_v_ZVY",
    "outputId": "c80b4773-e808-4df7-ee44-32696350d7e2"
   },
   "outputs": [
    {
     "data": {
      "text/plain": [
       "{'alpha': 0.0001}"
      ]
     },
     "execution_count": 26,
     "metadata": {
      "tags": []
     },
     "output_type": "execute_result"
    }
   ],
   "source": [
    "grid_search.best_params_"
   ]
  },
  {
   "cell_type": "markdown",
   "metadata": {
    "colab_type": "text",
    "id": "6R5TUFMYbwCy"
   },
   "source": []
  },
  {
   "cell_type": "markdown",
   "metadata": {
    "colab_type": "text",
    "id": "39_LieytUl0G"
   },
   "source": [
    "**Hyperparameter**"
   ]
  },
  {
   "cell_type": "code",
   "execution_count": 27,
   "metadata": {
    "colab": {
     "base_uri": "https://localhost:8080/",
     "height": 68
    },
    "colab_type": "code",
    "id": "XjzYA_LJRffq",
    "outputId": "69d1c0e9-53b2-4211-df25-e7b98848eaee"
   },
   "outputs": [
    {
     "data": {
      "text/plain": [
       "Lasso(alpha=0.0001, copy_X=True, fit_intercept=True, max_iter=10000,\n",
       "      normalize=False, positive=False, precompute=False, random_state=5,\n",
       "      selection='cyclic', tol=0.0001, warm_start=False)"
      ]
     },
     "execution_count": 27,
     "metadata": {
      "tags": []
     },
     "output_type": "execute_result"
    }
   ],
   "source": [
    "grid_search.best_estimator_"
   ]
  },
  {
   "cell_type": "markdown",
   "metadata": {
    "colab_type": "text",
    "id": "2-B6LJ9PPtWE"
   },
   "source": [
    "**Ridge Regression or L2**"
   ]
  },
  {
   "cell_type": "code",
   "execution_count": 0,
   "metadata": {
    "colab": {},
    "colab_type": "code",
    "id": "h8lNrvWQ_d1i"
   },
   "outputs": [],
   "source": [
    "ridge = Ridge()"
   ]
  },
  {
   "cell_type": "code",
   "execution_count": 0,
   "metadata": {
    "colab": {},
    "colab_type": "code",
    "id": "fnhn4lC9Qd6I"
   },
   "outputs": [],
   "source": [
    "alphas = np.array([1,0.1,0.01,0.001,0.0001,0])\n",
    "\n",
    "grid = GridSearchCV(estimator=ridge, param_grid=dict(alpha=alphas))"
   ]
  },
  {
   "cell_type": "code",
   "execution_count": 30,
   "metadata": {
    "colab": {
     "base_uri": "https://localhost:8080/",
     "height": 153
    },
    "colab_type": "code",
    "id": "G_oCX3G3RL01",
    "outputId": "c078c272-0ef1-472c-8d0c-9a10cdc4f94f"
   },
   "outputs": [
    {
     "data": {
      "text/plain": [
       "GridSearchCV(cv=None, error_score=nan,\n",
       "             estimator=Ridge(alpha=1.0, copy_X=True, fit_intercept=True,\n",
       "                             max_iter=None, normalize=False, random_state=None,\n",
       "                             solver='auto', tol=0.001),\n",
       "             iid='deprecated', n_jobs=None,\n",
       "             param_grid={'alpha': array([1.e+00, 1.e-01, 1.e-02, 1.e-03, 1.e-04, 0.e+00])},\n",
       "             pre_dispatch='2*n_jobs', refit=True, return_train_score=False,\n",
       "             scoring=None, verbose=0)"
      ]
     },
     "execution_count": 30,
     "metadata": {
      "tags": []
     },
     "output_type": "execute_result"
    }
   ],
   "source": [
    "grid.fit(X_train, y_train)"
   ]
  },
  {
   "cell_type": "code",
   "execution_count": 31,
   "metadata": {
    "colab": {
     "base_uri": "https://localhost:8080/",
     "height": 34
    },
    "colab_type": "code",
    "id": "uuxvuiSlQ5Ci",
    "outputId": "9af32fe9-b643-43e3-ed67-e11843d14923"
   },
   "outputs": [
    {
     "data": {
      "text/plain": [
       "0.3183645578900454"
      ]
     },
     "execution_count": 31,
     "metadata": {
      "tags": []
     },
     "output_type": "execute_result"
    }
   ],
   "source": [
    "grid.best_score_"
   ]
  },
  {
   "cell_type": "markdown",
   "metadata": {
    "colab_type": "text",
    "id": "tUTWHQe3b134"
   },
   "source": [
    "**The optimal regularization parameter for L2**"
   ]
  },
  {
   "cell_type": "code",
   "execution_count": 32,
   "metadata": {
    "colab": {
     "base_uri": "https://localhost:8080/",
     "height": 34
    },
    "colab_type": "code",
    "id": "5_l157_jRDPs",
    "outputId": "6e73ece8-47b7-4031-eef6-e471c299d193"
   },
   "outputs": [
    {
     "data": {
      "text/plain": [
       "{'alpha': 0.01}"
      ]
     },
     "execution_count": 32,
     "metadata": {
      "tags": []
     },
     "output_type": "execute_result"
    }
   ],
   "source": [
    "grid.best_params_"
   ]
  },
  {
   "cell_type": "markdown",
   "metadata": {
    "colab_type": "text",
    "id": "zgIs64Z3Uv5Z"
   },
   "source": [
    "Hyperparameter"
   ]
  },
  {
   "cell_type": "code",
   "execution_count": 33,
   "metadata": {
    "colab": {
     "base_uri": "https://localhost:8080/",
     "height": 51
    },
    "colab_type": "code",
    "id": "9tErtOzHQ7uT",
    "outputId": "3ef8530f-c643-4862-ee5b-05d13c47d684"
   },
   "outputs": [
    {
     "data": {
      "text/plain": [
       "Ridge(alpha=0.01, copy_X=True, fit_intercept=True, max_iter=None,\n",
       "      normalize=False, random_state=None, solver='auto', tol=0.001)"
      ]
     },
     "execution_count": 33,
     "metadata": {
      "tags": []
     },
     "output_type": "execute_result"
    }
   ],
   "source": [
    "grid.best_estimator_"
   ]
  },
  {
   "cell_type": "code",
   "execution_count": 34,
   "metadata": {
    "colab": {
     "base_uri": "https://localhost:8080/",
     "height": 119
    },
    "colab_type": "code",
    "id": "K5zgysLyiukU",
    "outputId": "d852183e-2052-4b4e-8e3c-4d3eda0e94ca"
   },
   "outputs": [
    {
     "name": "stdout",
     "output_type": "stream",
     "text": [
      "+----------------+--------+\n",
      "| Regularization | Alpha  |\n",
      "+----------------+--------+\n",
      "|  Lasso or L1   | 0.0001 |\n",
      "|  Ridge or L2   |  0.01  |\n",
      "+----------------+--------+\n"
     ]
    }
   ],
   "source": [
    "x = PrettyTable([\"Regularization\", \"Alpha\"])\n",
    "x.add_row([\"Lasso or L1\", grid_search.best_estimator_.alpha])\n",
    "x.add_row([\"Ridge or L2\", grid.best_estimator_.alpha])\n",
    "print(x)"
   ]
  },
  {
   "cell_type": "code",
   "execution_count": 35,
   "metadata": {
    "colab": {
     "base_uri": "https://localhost:8080/",
     "height": 397
    },
    "colab_type": "code",
    "id": "sSPRMmtjkVH3",
    "outputId": "4d378ce0-0c81-4e4e-9dae-5e59b0f19550"
   },
   "outputs": [
    {
     "name": "stdout",
     "output_type": "stream",
     "text": [
      "+-------------------+--------------------+\n",
      "|         b0        |         b1         |\n",
      "+-------------------+--------------------+\n",
      "| 6.644185775036808 | 5.9593440592392355 |\n",
      "+-------------------+--------------------+\n",
      "\n"
     ]
    },
    {
     "data": {
      "image/png": "[encoded data removed]",
      "text/plain": [
       "<Figure size 432x288 with 1 Axes>"
      ]
     },
     "metadata": {
      "needs_background": "light",
      "tags": []
     },
     "output_type": "display_data"
    }
   ],
   "source": [
    "#gradient descent as L1\n",
    "epochs = 10000 # iteration\n",
    "alpha = 0.001   # learning rate\n",
    "lmda = 0.0001\n",
    "\n",
    "X = data[\"Length\"].values\n",
    "y = data[\"Rings\"].values\n",
    "X = (X-np.min(X))/(np.max(X)-np.min(X))\n",
    "X_train, X_test, y_train, y_test = train_test_split(X, y, test_size=0.2, random_state=1) \n",
    "train_rmse, test_rmse = gradient_descent_with_regularization(X_train, X_test, y_train, y_test, lmda, epochs, alpha)\n"
   ]
  },
  {
   "cell_type": "code",
   "execution_count": 36,
   "metadata": {
    "colab": {
     "base_uri": "https://localhost:8080/",
     "height": 295
    },
    "colab_type": "code",
    "id": "HWQoUzGKlIU5",
    "outputId": "41ec4673-f336-4d6e-fe19-6e55198bcbe6"
   },
   "outputs": [
    {
     "data": {
      "image/png": "[encoded data removed]",
      "text/plain": [
       "<Figure size 432x288 with 1 Axes>"
      ]
     },
     "metadata": {
      "needs_background": "light",
      "tags": []
     },
     "output_type": "display_data"
    }
   ],
   "source": [
    "plt.plot(range(epochs), train_rmse, c='b', label='Training RMSE')\n",
    "plt.plot(range(epochs), test_rmse, c='r', label='Testing RMSE')\n",
    "plt.xlabel('Epochs')\n",
    "plt.ylabel('RMSE')\n",
    "plt.title(\"L1 regularized parameters\")\n",
    "plt.legend()\n",
    "plt.show()"
   ]
  },
  {
   "cell_type": "code",
   "execution_count": 37,
   "metadata": {
    "colab": {
     "base_uri": "https://localhost:8080/",
     "height": 675
    },
    "colab_type": "code",
    "id": "o6l1TvN2m6YG",
    "outputId": "064e93a3-4b9b-48db-94a7-fa263e70f745"
   },
   "outputs": [
    {
     "name": "stdout",
     "output_type": "stream",
     "text": [
      "+-------------------+--------------------+\n",
      "|         b0        |         b1         |\n",
      "+-------------------+--------------------+\n",
      "| 6.644151232007547 | 5.9593545637871586 |\n",
      "+-------------------+--------------------+\n",
      "\n"
     ]
    },
    {
     "data": {
      "image/png": "[encoded data removed]",
      "text/plain": [
       "<Figure size 432x288 with 1 Axes>"
      ]
     },
     "metadata": {
      "needs_background": "light",
      "tags": []
     },
     "output_type": "display_data"
    },
    {
     "data": {
      "image/png": "[encoded data removed]",
      "text/plain": [
       "<Figure size 432x288 with 1 Axes>"
      ]
     },
     "metadata": {
      "needs_background": "light",
      "tags": []
     },
     "output_type": "display_data"
    }
   ],
   "source": [
    "#gradient descent as L2\n",
    "epochs = 10000 # iteration\n",
    "alpha = 0.001   # learning rate\n",
    "lmda = 0.01\n",
    "\n",
    "X = data[\"Length\"].values\n",
    "\n",
    "y = data[\"Rings\"].values\n",
    "X = (X-np.min(X))/(np.max(X)-np.min(X))\n",
    "X_train, X_test, y_train, y_test = train_test_split(X, y, test_size=0.2, random_state=1) \n",
    "train_rmse, test_rmse = gradient_descent_with_regularization(X_train, X_test, y_train, y_test,lmda ,epochs, alpha)\n",
    "\n",
    "plt.plot(range(epochs), train_rmse, c='b', label='Training RMSE')\n",
    "plt.plot(range(epochs), test_rmse, c='r', label='Testing RMSE')\n",
    "plt.title(\"L2 regularized parameters\")\n",
    "plt.xlabel('Epochs')\n",
    "plt.ylabel('RMSE')\n",
    "plt.legend()\n",
    "plt.show()"
   ]
  },
  {
   "cell_type": "markdown",
   "metadata": {
    "colab_type": "text",
    "id": "qWsFdaRCpmTN"
   },
   "source": [
    "#Question 3"
   ]
  },
  {
   "cell_type": "code",
   "execution_count": 38,
   "metadata": {
    "colab": {
     "base_uri": "https://localhost:8080/",
     "height": 347
    },
    "colab_type": "code",
    "id": "XHS5Izl3nHMb",
    "outputId": "d66715b4-6986-4582-cee1-f264f64cfb3c"
   },
   "outputs": [
    {
     "name": "stdout",
     "output_type": "stream",
     "text": [
      "B0 =  325.57342104944223\n",
      "B1 =  0.26342933948939945\n",
      "\n"
     ]
    },
    {
     "data": {
      "image/png": "[encoded data removed]",
      "text/plain": [
       "<Figure size 432x288 with 1 Axes>"
      ]
     },
     "metadata": {
      "needs_background": "light",
      "tags": []
     },
     "output_type": "display_data"
    },
    {
     "name": "stdout",
     "output_type": "stream",
     "text": [
      "RMSE : 72.1206213783709\n"
     ]
    }
   ],
   "source": [
    "df = pd.read_csv(\"https://raw.githubusercontent.com/ta-verma/DataSets/master/headbrain.csv\").drop([\"Gender\",\"Age Range\"], axis=1)\n",
    "\n",
    "X = df[\"Head Size(cm^3)\"].values\n",
    "y = df[\"Brain Weight(grams)\"].values\n",
    "\n",
    "X_mean = np.mean(X)\n",
    "Y_mean = np.mean(y)\n",
    "n = len(X)\n",
    "\n",
    "num = 0\n",
    "den = 0\n",
    "for i in range(n):\n",
    "    num += (X[i]-X_mean) * (y[i] - Y_mean)\n",
    "    den += (X[i]-X_mean) ** 2\n",
    "\n",
    "B1 = num/den\n",
    "B0 = Y_mean - B1 * X_mean\n",
    "print(\"B0 = \",B0)\n",
    "print(\"B1 = \",B1)\n",
    "print()\n",
    "\n",
    "x_min = np.min(X)\n",
    "x_max = np.max(X)\n",
    "\n",
    "\n",
    "y_pred_linear = B1 * X + B0\n",
    "\n",
    "plt.scatter(X,y ,color = 'c' ,label = \"Data Point\")\n",
    "plt.plot(X,y_pred_linear ,color = 'r' , label = \"Linear reg\")\n",
    "plt.xlabel(\"Head Size(cm^3)\")\n",
    "plt.ylabel(\"Brain Weight(grams)\")\n",
    "plt.legend()\n",
    "plt.show()\n",
    "\n",
    "print(\"RMSE :\",rmse(y, y_pred_linear))"
   ]
  },
  {
   "cell_type": "markdown",
   "metadata": {
    "colab_type": "text",
    "id": "RilPC5w47Ggv"
   },
   "source": [
    "**Ridge Regression**"
   ]
  },
  {
   "cell_type": "code",
   "execution_count": 39,
   "metadata": {
    "colab": {
     "base_uri": "https://localhost:8080/",
     "height": 346
    },
    "colab_type": "code",
    "id": "sLDL5gk3qWIo",
    "outputId": "c4021bf7-5c2b-441c-985a-9c234d39ede6"
   },
   "outputs": [
    {
     "data": {
      "image/png": "[encoded data removed]",
      "text/plain": [
       "<Figure size 432x288 with 1 Axes>"
      ]
     },
     "metadata": {
      "needs_background": "light",
      "tags": []
     },
     "output_type": "display_data"
    },
    {
     "name": "stdout",
     "output_type": "stream",
     "text": [
      "\n",
      "{'alpha': 1e-08}\n",
      "RMSE : 72.1206213783709\n"
     ]
    }
   ],
   "source": [
    "ridge = Ridge()\n",
    "X = X.reshape((len(X),1))\n",
    "parameters = {'alpha': [1e-15, 1e-10, 1e-8, 1e-4, 1e-3,1e-2, 1, 5, 10, 20]}\n",
    "\n",
    "ridge_regressor = GridSearchCV(ridge, parameters,scoring='neg_mean_squared_error', cv=5,)\n",
    "ridge_regressor.fit(X, y)\n",
    "y_pred_ridge = ridge_regressor.predict(X)\n",
    "\n",
    "plt.scatter(X, y, c='c', label = \"scatter plot\")\n",
    "plt.plot(X,y_pred_ridge,color=\"red\", label= \"ridge regression line\")\n",
    "plt.ylabel(\"Brain Weight(grams)\")\n",
    "plt.xlabel(\"Head Size(cm^3)\")\n",
    "plt.title(\"Linear Regression\")\n",
    "plt.legend()\n",
    "plt.show()\n",
    "\n",
    "print()\n",
    "print(ridge_regressor.best_params_)\n",
    "\n",
    "print(\"RMSE :\",rmse(y, y_pred_ridge))"
   ]
  },
  {
   "cell_type": "markdown",
   "metadata": {
    "colab_type": "text",
    "id": "mx0avJB399Rw"
   },
   "source": [
    "**Lasso Regression**"
   ]
  },
  {
   "cell_type": "code",
   "execution_count": 40,
   "metadata": {
    "colab": {
     "base_uri": "https://localhost:8080/",
     "height": 346
    },
    "colab_type": "code",
    "id": "fx338nqNYBcw",
    "outputId": "5e400f21-c1d7-45b6-bc26-40d8667b908d"
   },
   "outputs": [
    {
     "data": {
      "image/png": "[encoded data removed]",
      "text/plain": [
       "<Figure size 432x288 with 1 Axes>"
      ]
     },
     "metadata": {
      "needs_background": "light",
      "tags": []
     },
     "output_type": "display_data"
    },
    {
     "name": "stdout",
     "output_type": "stream",
     "text": [
      "\n",
      "{'alpha': 1e-10}\n",
      "RMSE : 72.1206213783709\n"
     ]
    }
   ],
   "source": [
    "lasso = Lasso()\n",
    "X = X.reshape((len(X),1))\n",
    "\n",
    "parameters = {'alpha': [1e-15, 1e-10, 1e-8, 1e-4, 1e-3,1e-2, 1, 5, 10, 20]}\n",
    "\n",
    "lasso_regressor = GridSearchCV(lasso, parameters,scoring='neg_mean_squared_error', cv=5,)\n",
    "lasso_regressor.fit(X, y)\n",
    "y_pred_lasso = lasso_regressor.predict(X)\n",
    "\n",
    "\n",
    "plt.scatter(X, y, c='c', label = \"scatter plot\")\n",
    "plt.plot(X,y_pred_lasso,color=\"red\", label= \"ridge regression line\")\n",
    "plt.ylabel(\"Brain Weight(grams)\")\n",
    "plt.xlabel(\"Head Size(cm^3)\")\n",
    "plt.title(\"Linear Regression\")\n",
    "plt.legend()\n",
    "plt.show()\n",
    "\n",
    "print()\n",
    "print(lasso_regressor.best_params_)\n",
    "\n",
    "print(\"RMSE :\",rmse(y, y_pred_lasso))\n"
   ]
  },
  {
   "cell_type": "markdown",
   "metadata": {
    "colab_type": "text",
    "id": "JF5B_EMOWerY"
   },
   "source": [
    "**Applying gradient descent **"
   ]
  },
  {
   "cell_type": "code",
   "execution_count": 41,
   "metadata": {
    "colab": {
     "base_uri": "https://localhost:8080/",
     "height": 380
    },
    "colab_type": "code",
    "id": "ccArrnW4CKec",
    "outputId": "c48a3f2d-3dc0-44a7-852d-a4a414bcfba3"
   },
   "outputs": [
    {
     "name": "stdout",
     "output_type": "stream",
     "text": [
      "+-------------------+--------------------+\n",
      "|         b0        |         b1         |\n",
      "+-------------------+--------------------+\n",
      "| 517.9837045862431 | 1052.2577047959705 |\n",
      "+-------------------+--------------------+\n"
     ]
    },
    {
     "data": {
      "image/png": "[encoded data removed]",
      "text/plain": [
       "<Figure size 432x288 with 1 Axes>"
      ]
     },
     "metadata": {
      "needs_background": "light",
      "tags": []
     },
     "output_type": "display_data"
    }
   ],
   "source": [
    "#applying gradient descent\n",
    "X = df[\"Head Size(cm^3)\"].values\n",
    "y = df[\"Brain Weight(grams)\"].values\n",
    "X = (X-np.min(X))/(np.max(X)-np.min(X))\n",
    "X_train, X_test, y_train, y_test = train_test_split(X, y, test_size=0.2, random_state=5)\n",
    "train_rmse, test_rmse , t_train_rmse, t_test_rmse = gradient_descent(X_train, X_test, y_train, y_test,epochs=10000,alpha=0.01)"
   ]
  },
  {
   "cell_type": "code",
   "execution_count": 42,
   "metadata": {
    "colab": {
     "base_uri": "https://localhost:8080/",
     "height": 397
    },
    "colab_type": "code",
    "id": "46wDPLP3M4EB",
    "outputId": "5fb9ceb9-3a8e-4f65-ca16-6336c32f30cd"
   },
   "outputs": [
    {
     "name": "stdout",
     "output_type": "stream",
     "text": [
      "+-------------------+-------------------+\n",
      "|         b0        |         b1        |\n",
      "+-------------------+-------------------+\n",
      "| 517.9837045460068 | 1052.257704786054 |\n",
      "+-------------------+-------------------+\n",
      "\n"
     ]
    },
    {
     "data": {
      "image/png": "[encoded data removed]",
      "text/plain": [
       "<Figure size 432x288 with 1 Axes>"
      ]
     },
     "metadata": {
      "needs_background": "light",
      "tags": []
     },
     "output_type": "display_data"
    }
   ],
   "source": [
    "epochs = 10000 # iteration\n",
    "alpha = 0.01   # learning rate\n",
    "lmda=1e-08\n",
    "\n",
    "train_rmse, test_rmse = gradient_descent_with_regularization(X_train, X_test, y_train, y_test,lmda,epochs,alpha)"
   ]
  },
  {
   "cell_type": "code",
   "execution_count": 43,
   "metadata": {
    "colab": {
     "base_uri": "https://localhost:8080/",
     "height": 397
    },
    "colab_type": "code",
    "id": "3Kg1XKJWNJBj",
    "outputId": "382b8975-7d43-46a4-ba0e-9c9d54e4c602"
   },
   "outputs": [
    {
     "name": "stdout",
     "output_type": "stream",
     "text": [
      "+-------------------+-------------------+\n",
      "|         b0        |         b1        |\n",
      "+-------------------+-------------------+\n",
      "| 517.9837045859362 | 1052.257704795823 |\n",
      "+-------------------+-------------------+\n",
      "\n"
     ]
    },
    {
     "data": {
      "image/png": "[encoded data removed]",
      "text/plain": [
       "<Figure size 432x288 with 1 Axes>"
      ]
     },
     "metadata": {
      "needs_background": "light",
      "tags": []
     },
     "output_type": "display_data"
    }
   ],
   "source": [
    "epochs = 10000 # iteration\n",
    "alpha = 0.01   # learning rate\n",
    "lmda=1e-10\n",
    "\n",
    "train_rmse, test_rmse = gradient_descent_with_regularization(X_train, X_test, y_train, y_test,lmda,epochs,alpha)"
   ]
  }
 ],
 "metadata": {
  "colab": {
   "collapsed_sections": [
    "iu_UJgP3WRPz",
    "b9qh2ufT7w5_",
    "qWsFdaRCpmTN"
   ],
   "name": "17HCS4142_Assignment_1.ipynb",
   "provenance": []
  },
  "kernelspec": {
   "display_name": "Python 3",
   "language": "python",
   "name": "python3"
  },
  "language_info": {
   "codemirror_mode": {
    "name": "ipython",
    "version": 2
   },
   "file_extension": ".py",
   "mimetype": "text/x-python",
   "name": "python",
   "nbconvert_exporter": "python",
   "pygments_lexer": "ipython2",
   "version": "2.7.17"
  }
 },
 "nbformat": 4,
 "nbformat_minor": 1
}
