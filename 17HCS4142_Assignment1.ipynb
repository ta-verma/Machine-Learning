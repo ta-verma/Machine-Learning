{
  "nbformat": 4,
  "nbformat_minor": 0,
  "metadata": {
    "colab": {
      "name": "17HCS4142_Assignment1.ipynb",
      "provenance": [],
      "collapsed_sections": []
    },
    "kernelspec": {
      "name": "python3",
      "display_name": "Python 3"
    }
  },
  "cells": [
    {
      "cell_type": "markdown",
      "metadata": {
        "id": "2An1tbWjFIar",
        "colab_type": "text"
      },
      "source": [
        "#Question 1"
      ]
    },
    {
      "cell_type": "markdown",
      "metadata": {
        "id": "XfsSsGCOFL8e",
        "colab_type": "text"
      },
      "source": [
        "**Importing Libraries**"
      ]
    },
    {
      "cell_type": "code",
      "metadata": {
        "id": "S7YS6VezEwZb",
        "colab_type": "code",
        "colab": {}
      },
      "source": [
        "import numpy as np\n",
        "import pandas as pd\n",
        "import matplotlib.pyplot as plt\n",
        "from prettytable import PrettyTable\n",
        "from sklearn import model_selection\n",
        "from sklearn.linear_model import Ridge, Lasso\n",
        "from sklearn.compose import ColumnTransformer\n",
        "from sklearn.preprocessing import StandardScaler, OneHotEncoder\n",
        "from sklearn.model_selection import train_test_split \n",
        "from sklearn.model_selection import GridSearchCV, cross_val_score"
      ],
      "execution_count": 0,
      "outputs": []
    },
    {
      "cell_type": "code",
      "metadata": {
        "id": "m2OihDTSYwk_",
        "colab_type": "code",
        "colab": {}
      },
      "source": [
        "import warnings\n",
        "warnings.filterwarnings('ignore')"
      ],
      "execution_count": 0,
      "outputs": []
    },
    {
      "cell_type": "code",
      "metadata": {
        "id": "0KQjBS1IE4yu",
        "colab_type": "code",
        "colab": {}
      },
      "source": [
        "data = pd.read_csv(\"https://raw.githubusercontent.com/ta-verma/DataSets/master/abalone.csv\")"
      ],
      "execution_count": 0,
      "outputs": []
    },
    {
      "cell_type": "code",
      "metadata": {
        "id": "zQhTBNNNE-Jr",
        "colab_type": "code",
        "colab": {}
      },
      "source": [
        "scaler = StandardScaler()\n",
        "onehot = OneHotEncoder()"
      ],
      "execution_count": 0,
      "outputs": []
    },
    {
      "cell_type": "code",
      "metadata": {
        "id": "sIqAPT5mFBK2",
        "colab_type": "code",
        "outputId": "6ca543dd-06a2-47f4-8a7f-1626eacbc7d3",
        "colab": {
          "base_uri": "https://localhost:8080/",
          "height": 221
        }
      },
      "source": [
        "print(data.shape)\n",
        "data.head()"
      ],
      "execution_count": 5,
      "outputs": [
        {
          "output_type": "stream",
          "text": [
            "(4177, 9)\n"
          ],
          "name": "stdout"
        },
        {
          "output_type": "execute_result",
          "data": {
            "text/html": [
              "<div>\n",
              "<style scoped>\n",
              "    .dataframe tbody tr th:only-of-type {\n",
              "        vertical-align: middle;\n",
              "    }\n",
              "\n",
              "    .dataframe tbody tr th {\n",
              "        vertical-align: top;\n",
              "    }\n",
              "\n",
              "    .dataframe thead th {\n",
              "        text-align: right;\n",
              "    }\n",
              "</style>\n",
              "<table border=\"1\" class=\"dataframe\">\n",
              "  <thead>\n",
              "    <tr style=\"text-align: right;\">\n",
              "      <th></th>\n",
              "      <th>Sex</th>\n",
              "      <th>Length</th>\n",
              "      <th>Diameter</th>\n",
              "      <th>Height</th>\n",
              "      <th>Whole weight</th>\n",
              "      <th>Shucked weight</th>\n",
              "      <th>Viscera weight</th>\n",
              "      <th>Shell weight</th>\n",
              "      <th>Rings</th>\n",
              "    </tr>\n",
              "  </thead>\n",
              "  <tbody>\n",
              "    <tr>\n",
              "      <th>0</th>\n",
              "      <td>M</td>\n",
              "      <td>0.455</td>\n",
              "      <td>0.365</td>\n",
              "      <td>0.095</td>\n",
              "      <td>0.5140</td>\n",
              "      <td>0.2245</td>\n",
              "      <td>0.1010</td>\n",
              "      <td>0.150</td>\n",
              "      <td>15</td>\n",
              "    </tr>\n",
              "    <tr>\n",
              "      <th>1</th>\n",
              "      <td>M</td>\n",
              "      <td>0.350</td>\n",
              "      <td>0.265</td>\n",
              "      <td>0.090</td>\n",
              "      <td>0.2255</td>\n",
              "      <td>0.0995</td>\n",
              "      <td>0.0485</td>\n",
              "      <td>0.070</td>\n",
              "      <td>7</td>\n",
              "    </tr>\n",
              "    <tr>\n",
              "      <th>2</th>\n",
              "      <td>F</td>\n",
              "      <td>0.530</td>\n",
              "      <td>0.420</td>\n",
              "      <td>0.135</td>\n",
              "      <td>0.6770</td>\n",
              "      <td>0.2565</td>\n",
              "      <td>0.1415</td>\n",
              "      <td>0.210</td>\n",
              "      <td>9</td>\n",
              "    </tr>\n",
              "    <tr>\n",
              "      <th>3</th>\n",
              "      <td>M</td>\n",
              "      <td>0.440</td>\n",
              "      <td>0.365</td>\n",
              "      <td>0.125</td>\n",
              "      <td>0.5160</td>\n",
              "      <td>0.2155</td>\n",
              "      <td>0.1140</td>\n",
              "      <td>0.155</td>\n",
              "      <td>10</td>\n",
              "    </tr>\n",
              "    <tr>\n",
              "      <th>4</th>\n",
              "      <td>I</td>\n",
              "      <td>0.330</td>\n",
              "      <td>0.255</td>\n",
              "      <td>0.080</td>\n",
              "      <td>0.2050</td>\n",
              "      <td>0.0895</td>\n",
              "      <td>0.0395</td>\n",
              "      <td>0.055</td>\n",
              "      <td>7</td>\n",
              "    </tr>\n",
              "  </tbody>\n",
              "</table>\n",
              "</div>"
            ],
            "text/plain": [
              "  Sex  Length  Diameter  ...  Viscera weight  Shell weight  Rings\n",
              "0   M   0.455     0.365  ...          0.1010         0.150     15\n",
              "1   M   0.350     0.265  ...          0.0485         0.070      7\n",
              "2   F   0.530     0.420  ...          0.1415         0.210      9\n",
              "3   M   0.440     0.365  ...          0.1140         0.155     10\n",
              "4   I   0.330     0.255  ...          0.0395         0.055      7\n",
              "\n",
              "[5 rows x 9 columns]"
            ]
          },
          "metadata": {
            "tags": []
          },
          "execution_count": 5
        }
      ]
    },
    {
      "cell_type": "code",
      "metadata": {
        "id": "rtySaxlaFFEk",
        "colab_type": "code",
        "outputId": "a169b480-744b-400c-b1da-a6aff88051ab",
        "colab": {
          "base_uri": "https://localhost:8080/",
          "height": 187
        }
      },
      "source": [
        "data.dtypes"
      ],
      "execution_count": 6,
      "outputs": [
        {
          "output_type": "execute_result",
          "data": {
            "text/plain": [
              "Sex                object\n",
              "Length            float64\n",
              "Diameter          float64\n",
              "Height            float64\n",
              "Whole weight      float64\n",
              "Shucked weight    float64\n",
              "Viscera weight    float64\n",
              "Shell weight      float64\n",
              "Rings               int64\n",
              "dtype: object"
            ]
          },
          "metadata": {
            "tags": []
          },
          "execution_count": 6
        }
      ]
    },
    {
      "cell_type": "code",
      "metadata": {
        "id": "VcsqDtgMxMpo",
        "colab_type": "code",
        "colab": {
          "base_uri": "https://localhost:8080/",
          "height": 544
        },
        "outputId": "9e659d1a-d5f7-4e4a-b01d-4f7aacb145d0"
      },
      "source": [
        "fig = plt.figure(figsize=(20,20))\n",
        "i=1\n",
        "colmap = {1:'r', 2:'g', 3:'b', 4:'y', 5:'c', 6:'#F835F5', 7:'#5335F8'}\n",
        "for col in data.columns:\n",
        "  if col not in ['Rings','Sex']:\n",
        "    plt.subplot(4, 4, i)\n",
        "    plt.title(col)\n",
        "    plt.scatter(data[col],data['Rings'],color = colmap[i] )\n",
        "    plt.xlabel(col)\n",
        "    plt.ylabel('Rings')\n",
        "    i=i+1\n",
        "\n",
        "plt.subplots_adjust(hspace=1)\n",
        "plt.show()"
      ],
      "execution_count": 7,
      "outputs": [
        {
          "output_type": "display_data",
          "data": {
            "image/png": "[encoded data removed]",
            "text/plain": [
              "<Figure size 1440x1440 with 7 Axes>"
            ]
          },
          "metadata": {
            "tags": [],
            "needs_background": "light"
          }
        }
      ]
    },
    {
      "cell_type": "markdown",
      "metadata": {
        "id": "TG9Ob6twFUjh",
        "colab_type": "text"
      },
      "source": [
        "**Handling Categorical Data**"
      ]
    },
    {
      "cell_type": "code",
      "metadata": {
        "id": "CnNNAzD1FI7i",
        "colab_type": "code",
        "colab": {}
      },
      "source": [
        "columnTransformer = ColumnTransformer([('encoder', OneHotEncoder(), ['Sex'])], remainder='passthrough')\n",
        "dataset = columnTransformer.fit_transform(data)"
      ],
      "execution_count": 0,
      "outputs": []
    },
    {
      "cell_type": "code",
      "metadata": {
        "id": "JAMwhBVFFM3N",
        "colab_type": "code",
        "colab": {}
      },
      "source": [
        "X = dataset[:,:-1]\n",
        "Y = dataset[:,-1].reshape(len(X), 1)"
      ],
      "execution_count": 0,
      "outputs": []
    },
    {
      "cell_type": "markdown",
      "metadata": {
        "id": "GBi9Z4Ytkyfn",
        "colab_type": "text"
      },
      "source": [
        "**Train Test Split (80-20)**"
      ]
    },
    {
      "cell_type": "code",
      "metadata": {
        "id": "qWBKIsj1FQ4z",
        "colab_type": "code",
        "colab": {}
      },
      "source": [
        "X_train, X_test, y_train, y_test = train_test_split(X, Y, test_size=0.2, random_state=5) "
      ],
      "execution_count": 0,
      "outputs": []
    },
    {
      "cell_type": "markdown",
      "metadata": {
        "id": "ZJAvf8hCFcG0",
        "colab_type": "text"
      },
      "source": [
        "**Feature Scaling**"
      ]
    },
    {
      "cell_type": "code",
      "metadata": {
        "id": "t9LGbpK2FVI8",
        "colab_type": "code",
        "colab": {}
      },
      "source": [
        "X_train[:,4:] = scaler.fit_transform(X_train[:,4:])\n",
        "X_test[:,4:] = scaler.transform(X_test[:,4:])"
      ],
      "execution_count": 0,
      "outputs": []
    },
    {
      "cell_type": "markdown",
      "metadata": {
        "id": "aHl7Uk4pFgni",
        "colab_type": "text"
      },
      "source": [
        "**Linear Regression**"
      ]
    },
    {
      "cell_type": "markdown",
      "metadata": {
        "id": "5E2IRIqmwmtp",
        "colab_type": "text"
      },
      "source": [
        "with cost history"
      ]
    },
    {
      "cell_type": "code",
      "metadata": {
        "id": "iTN8jYtGFYoA",
        "colab_type": "code",
        "colab": {}
      },
      "source": [
        "def rmse(predictions, targets):\n",
        "    return np.sqrt(((predictions - targets) ** 2).mean())\n",
        "\n",
        "def linear_gradient_descent(X_train, y_train, X_test, y_test, iterations, alpha, lmda=None, reg=None):   # with cost history\n",
        "    n_samples, n_features = X_train.shape\n",
        "    B = np.zeros(n_features).reshape(n_features, 1)\n",
        "    train_rmse_history = [0] * iterations\n",
        "    test_rmse_history = [0] * iterations\n",
        "    \n",
        "    for i in range(iterations):\n",
        "        y_pred = X_train.dot(B)\n",
        "        \n",
        "        if reg == 'l1' and lmda != None:\n",
        "          gradient = ((((y_pred - y_train).T).dot(X_train)).T + ((lmda/2) * np.sign(B))) / n_samples\n",
        "        \n",
        "        elif reg == 'l2' and lmda != None:\n",
        "          gradient = ((((y_pred - y_train).T).dot(X_train)).T + (lmda * B)) / n_samples\n",
        "        \n",
        "        else:\n",
        "          gradient = ((((y_pred - y_train).T).dot(X_train)).T) / n_samples\n",
        "        \n",
        "        B -=  alpha * gradient\n",
        "        train_rmse_history[i] = np.sqrt(np.sum((y_pred-y_train) ** 2) / n_samples)\n",
        "        test_rmse_history[i] = rmse(X_test.dot(B), y_test)\n",
        "\n",
        "    return B, train_rmse_history, test_rmse_history\n",
        "\n"
      ],
      "execution_count": 0,
      "outputs": []
    },
    {
      "cell_type": "markdown",
      "metadata": {
        "id": "oS1Xs49swpqv",
        "colab_type": "text"
      },
      "source": [
        "without cost history"
      ]
    },
    {
      "cell_type": "code",
      "metadata": {
        "id": "6NxUqh88mYZW",
        "colab_type": "code",
        "colab": {}
      },
      "source": [
        "def simple_linear_gradient_descent(X, y, iterations, alpha, lmda=None, reg=None):                # without cost history\n",
        "    X = np.concatenate((np.ones(len(X)).reshape(len(X), 1), X), axis = 1)\n",
        "    n_samples, n_features = X.shape\n",
        "    B = np.zeros(n_features).reshape(n_features, 1)\n",
        "\n",
        "    \n",
        "    for i in range(iterations):\n",
        "        y_pred = X.dot(B)\n",
        "        \n",
        "        if reg == 'l1' and lmda != None:\n",
        "          gradient = ((((y_pred - y).T).dot(X)).T + ((lmda/2) * np.sign(B))) / n_samples\n",
        "        \n",
        "        elif reg == 'l2' and lmda != None:\n",
        "          gradient = ((((y_pred - y).T).dot(X)).T + (lmda * B)) / n_samples\n",
        "        \n",
        "        else:  \n",
        "          gradient = ((((y_pred - y).T).dot(X)).T) / n_samples\n",
        "        B -=  alpha * gradient\n",
        "\n",
        "    return B\n",
        "\n",
        "def predict(X, B):\n",
        "  X = np.concatenate((np.ones(len(X)).reshape(len(X), 1), X), axis = 1)\n",
        "  return X.dot(B)"
      ],
      "execution_count": 0,
      "outputs": []
    },
    {
      "cell_type": "markdown",
      "metadata": {
        "id": "svJD41UmFlF9",
        "colab_type": "text"
      },
      "source": [
        "**RMSE Curve**"
      ]
    },
    {
      "cell_type": "code",
      "metadata": {
        "id": "GoADkWvbJH54",
        "colab_type": "code",
        "colab": {}
      },
      "source": [
        "def plot_rmse(epochs, train, test, title = ''):\n",
        "  plt.plot(range(epochs), train, c='r', label='Training RMSE')\n",
        "  plt.plot(range(epochs), test, c='b', label='Testing RMSE')\n",
        "  plt.title(title)\n",
        "  plt.xlabel('Epochs')\n",
        "  plt.ylabel('RMSE')\n",
        "  plt.legend()\n",
        "  plt.show()"
      ],
      "execution_count": 0,
      "outputs": []
    },
    {
      "cell_type": "markdown",
      "metadata": {
        "id": "ded6HmVy3Wzk",
        "colab_type": "text"
      },
      "source": [
        "**Gradient Descent**"
      ]
    },
    {
      "cell_type": "code",
      "metadata": {
        "id": "L28nHT7LH3bK",
        "colab_type": "code",
        "colab": {}
      },
      "source": [
        "alpha = 0.01\n",
        "iter_ = 1000\n",
        "B, train_cost_history, test_cost_history = linear_gradient_descent(X_train, y_train, X_test, y_test, iter_, alpha)"
      ],
      "execution_count": 0,
      "outputs": []
    },
    {
      "cell_type": "code",
      "metadata": {
        "id": "OqQTda4P1uoe",
        "colab_type": "code",
        "outputId": "7d4da31c-920f-4f00-daff-269f10ded346",
        "colab": {
          "base_uri": "https://localhost:8080/",
          "height": 295
        }
      },
      "source": [
        "plot_rmse(iter_, train_cost_history, test_cost_history, 'RMSE v/s Iterations')"
      ],
      "execution_count": 16,
      "outputs": [
        {
          "output_type": "display_data",
          "data": {
            "image/png": "[encoded data removed]",
            "text/plain": [
              "<Figure size 432x288 with 1 Axes>"
            ]
          },
          "metadata": {
            "tags": [],
            "needs_background": "light"
          }
        }
      ]
    },
    {
      "cell_type": "code",
      "metadata": {
        "id": "Lx2V8YycV-Y8",
        "colab_type": "code",
        "outputId": "2658f453-2c2a-47d3-aebf-8e4f295cd636",
        "colab": {
          "base_uri": "https://localhost:8080/",
          "height": 34
        }
      },
      "source": [
        "train_cost_history[-1], test_cost_history[-1]"
      ],
      "execution_count": 17,
      "outputs": [
        {
          "output_type": "execute_result",
          "data": {
            "text/plain": [
              "(2.2416126828072884, 2.3728716352744104)"
            ]
          },
          "metadata": {
            "tags": []
          },
          "execution_count": 17
        }
      ]
    },
    {
      "cell_type": "markdown",
      "metadata": {
        "id": "ENOhUvbAshxz",
        "colab_type": "text"
      },
      "source": [
        "**<h2>Normal Equation</h2>**"
      ]
    },
    {
      "cell_type": "code",
      "metadata": {
        "id": "DJYcCFKvSkQO",
        "colab_type": "code",
        "colab": {}
      },
      "source": [
        "def normal_equation(X, y):\n",
        "    return np.linalg.inv(X.T.dot(X)).dot(X.T).dot(y)"
      ],
      "execution_count": 0,
      "outputs": []
    },
    {
      "cell_type": "code",
      "metadata": {
        "id": "0nqYrjjLTIQl",
        "colab_type": "code",
        "colab": {}
      },
      "source": [
        "B_normal = normal_equation(X_train, y_train)\n",
        "normal_train_rmse = rmse(X_train.dot(B_normal), y_train)\n",
        "normal_test_rmse = rmse(X_test.dot(B_normal), y_test)\n"
      ],
      "execution_count": 0,
      "outputs": []
    },
    {
      "cell_type": "markdown",
      "metadata": {
        "id": "1BLBHO5rsyQb",
        "colab_type": "text"
      },
      "source": [
        "**Comparing RMSE**"
      ]
    },
    {
      "cell_type": "code",
      "metadata": {
        "id": "ZQI-C4aysxjR",
        "colab_type": "code",
        "colab": {
          "base_uri": "https://localhost:8080/",
          "height": 153
        },
        "outputId": "c279304d-97ae-4b26-c4d4-2ae19d3b0542"
      },
      "source": [
        "rmse_df = pd.DataFrame([[train_cost_history[-1], test_cost_history[-1]], \n",
        "                        [normal_train_rmse, normal_test_rmse]], \n",
        "                       columns=['Training Set', 'Testing Set'], index=['Gradient Descent', 'Normal Equation'])\n",
        "\n",
        "print('RMSE of Gradient Descent and Normal Equation\\n')\n",
        "from tabulate import tabulate\n",
        "print(tabulate(rmse_df, headers='keys', tablefmt='pretty'))"
      ],
      "execution_count": 20,
      "outputs": [
        {
          "output_type": "stream",
          "text": [
            "RMSE of Gradient Descent and Normal Equation\n",
            "\n",
            "+------------------+--------------------+--------------------+\n",
            "|                  |    Training Set    |    Testing Set     |\n",
            "+------------------+--------------------+--------------------+\n",
            "| Gradient Descent | 2.2416126828072884 | 2.3728716352744104 |\n",
            "| Normal Equation  | 2.1650743991218957 |  2.30134062589164  |\n",
            "+------------------+--------------------+--------------------+\n"
          ],
          "name": "stdout"
        }
      ]
    },
    {
      "cell_type": "markdown",
      "metadata": {
        "id": "KUY1KrVw0ez7",
        "colab_type": "text"
      },
      "source": [
        "RMSE value of Normal equation is better than the Gradient descent method it is because Gradient descent is iterative process while Normal equation solve B(theta) analytically. Therefore, For some linear regression problems Normal equation provides better solution."
      ]
    },
    {
      "cell_type": "markdown",
      "metadata": {
        "id": "-g4TuBU8upzt",
        "colab_type": "text"
      },
      "source": [
        "#Question 2"
      ]
    },
    {
      "cell_type": "markdown",
      "metadata": {
        "id": "GMsxIRz8Y2D6",
        "colab_type": "text"
      },
      "source": [
        "**<h2>Lasso Regression or L1**"
      ]
    },
    {
      "cell_type": "code",
      "metadata": {
        "id": "AJONrZ_kY1b8",
        "colab_type": "code",
        "colab": {}
      },
      "source": [
        "lasso = Lasso(max_iter=10000, random_state=5)\n",
        "\n",
        "alphas = np.array([1,0.1,0.01,0.001,0.0001,0])\n",
        "tuned_parameters = [{'alpha': alphas }]\n",
        "\n",
        "n_folds = 5\n",
        "grid_l1 = GridSearchCV(estimator = lasso, param_grid= tuned_parameters, cv=n_folds, refit=True)"
      ],
      "execution_count": 0,
      "outputs": []
    },
    {
      "cell_type": "code",
      "metadata": {
        "id": "U7IU0UGtZU5X",
        "colab_type": "code",
        "colab": {
          "base_uri": "https://localhost:8080/",
          "height": 170
        },
        "outputId": "6a046f48-46db-4368-9ced-d32bdb9db13e"
      },
      "source": [
        "grid_l1.fit(X_train, y_train)"
      ],
      "execution_count": 22,
      "outputs": [
        {
          "output_type": "execute_result",
          "data": {
            "text/plain": [
              "GridSearchCV(cv=5, error_score=nan,\n",
              "             estimator=Lasso(alpha=1.0, copy_X=True, fit_intercept=True,\n",
              "                             max_iter=10000, normalize=False, positive=False,\n",
              "                             precompute=False, random_state=5,\n",
              "                             selection='cyclic', tol=0.0001, warm_start=False),\n",
              "             iid='deprecated', n_jobs=None,\n",
              "             param_grid=[{'alpha': array([1.e+00, 1.e-01, 1.e-02, 1.e-03, 1.e-04, 0.e+00])}],\n",
              "             pre_dispatch='2*n_jobs', refit=True, return_train_score=False,\n",
              "             scoring=None, verbose=0)"
            ]
          },
          "metadata": {
            "tags": []
          },
          "execution_count": 22
        }
      ]
    },
    {
      "cell_type": "code",
      "metadata": {
        "id": "F0dOsGlmZam3",
        "colab_type": "code",
        "colab": {
          "base_uri": "https://localhost:8080/",
          "height": 34
        },
        "outputId": "44036878-f828-4473-e199-8f6e7b9f9e31"
      },
      "source": [
        "grid_l1.best_score_"
      ],
      "execution_count": 23,
      "outputs": [
        {
          "output_type": "execute_result",
          "data": {
            "text/plain": [
              "0.5346204140830038"
            ]
          },
          "metadata": {
            "tags": []
          },
          "execution_count": 23
        }
      ]
    },
    {
      "cell_type": "markdown",
      "metadata": {
        "id": "HEfYMIFoZfky",
        "colab_type": "text"
      },
      "source": [
        "**The optimal regularization parameter for L1**"
      ]
    },
    {
      "cell_type": "code",
      "metadata": {
        "id": "7Szi4SFbZbPM",
        "colab_type": "code",
        "colab": {
          "base_uri": "https://localhost:8080/",
          "height": 34
        },
        "outputId": "283a1455-179b-4f3d-99ad-b00d0abf0311"
      },
      "source": [
        "grid_l1.best_params_"
      ],
      "execution_count": 24,
      "outputs": [
        {
          "output_type": "execute_result",
          "data": {
            "text/plain": [
              "{'alpha': 0.001}"
            ]
          },
          "metadata": {
            "tags": []
          },
          "execution_count": 24
        }
      ]
    },
    {
      "cell_type": "markdown",
      "metadata": {
        "id": "0DxAN_OOZqia",
        "colab_type": "text"
      },
      "source": [
        "**Hyperparameter**"
      ]
    },
    {
      "cell_type": "code",
      "metadata": {
        "id": "_-H-6rHoZmC4",
        "colab_type": "code",
        "colab": {
          "base_uri": "https://localhost:8080/",
          "height": 68
        },
        "outputId": "0133f537-eebf-4ae2-9e6d-6c3699ed3c9d"
      },
      "source": [
        "grid_l1.best_estimator_"
      ],
      "execution_count": 25,
      "outputs": [
        {
          "output_type": "execute_result",
          "data": {
            "text/plain": [
              "Lasso(alpha=0.001, copy_X=True, fit_intercept=True, max_iter=10000,\n",
              "      normalize=False, positive=False, precompute=False, random_state=5,\n",
              "      selection='cyclic', tol=0.0001, warm_start=False)"
            ]
          },
          "metadata": {
            "tags": []
          },
          "execution_count": 25
        }
      ]
    },
    {
      "cell_type": "markdown",
      "metadata": {
        "id": "X08NFXS4ZxPk",
        "colab_type": "text"
      },
      "source": [
        "**<h2>Ridge Regression or L2**"
      ]
    },
    {
      "cell_type": "code",
      "metadata": {
        "id": "u0j2otMxZuCk",
        "colab_type": "code",
        "colab": {}
      },
      "source": [
        "ridge = Ridge()\n",
        "\n",
        "alphas = np.array([1,0.1,0.01,0.001,0.0001,0])\n",
        "\n",
        "grid_l2 = GridSearchCV(estimator=ridge, param_grid=dict(alpha=alphas))"
      ],
      "execution_count": 0,
      "outputs": []
    },
    {
      "cell_type": "code",
      "metadata": {
        "id": "F3cfchPaZ7GI",
        "colab_type": "code",
        "colab": {
          "base_uri": "https://localhost:8080/",
          "height": 153
        },
        "outputId": "f9576866-8c0b-4a2c-afea-e71e59df42e1"
      },
      "source": [
        "grid_l2.fit(X_train, y_train)"
      ],
      "execution_count": 27,
      "outputs": [
        {
          "output_type": "execute_result",
          "data": {
            "text/plain": [
              "GridSearchCV(cv=None, error_score=nan,\n",
              "             estimator=Ridge(alpha=1.0, copy_X=True, fit_intercept=True,\n",
              "                             max_iter=None, normalize=False, random_state=None,\n",
              "                             solver='auto', tol=0.001),\n",
              "             iid='deprecated', n_jobs=None,\n",
              "             param_grid={'alpha': array([1.e+00, 1.e-01, 1.e-02, 1.e-03, 1.e-04, 0.e+00])},\n",
              "             pre_dispatch='2*n_jobs', refit=True, return_train_score=False,\n",
              "             scoring=None, verbose=0)"
            ]
          },
          "metadata": {
            "tags": []
          },
          "execution_count": 27
        }
      ]
    },
    {
      "cell_type": "code",
      "metadata": {
        "id": "zHl2L23zZ8V1",
        "colab_type": "code",
        "colab": {
          "base_uri": "https://localhost:8080/",
          "height": 34
        },
        "outputId": "9f3d5099-c64d-4f31-ef01-aae201046a4a"
      },
      "source": [
        "grid_l2.best_score_"
      ],
      "execution_count": 28,
      "outputs": [
        {
          "output_type": "execute_result",
          "data": {
            "text/plain": [
              "0.5343480744745012"
            ]
          },
          "metadata": {
            "tags": []
          },
          "execution_count": 28
        }
      ]
    },
    {
      "cell_type": "markdown",
      "metadata": {
        "id": "oIbY95wKaC-k",
        "colab_type": "text"
      },
      "source": [
        "**The optimal regularization parameter for L2**"
      ]
    },
    {
      "cell_type": "code",
      "metadata": {
        "id": "PIw30fWraALY",
        "colab_type": "code",
        "colab": {
          "base_uri": "https://localhost:8080/",
          "height": 34
        },
        "outputId": "1180b077-f6d9-44f6-8553-d65ea5265aab"
      },
      "source": [
        "grid_l2.best_params_"
      ],
      "execution_count": 29,
      "outputs": [
        {
          "output_type": "execute_result",
          "data": {
            "text/plain": [
              "{'alpha': 1.0}"
            ]
          },
          "metadata": {
            "tags": []
          },
          "execution_count": 29
        }
      ]
    },
    {
      "cell_type": "markdown",
      "metadata": {
        "id": "ssKMyhVqaMTD",
        "colab_type": "text"
      },
      "source": [
        "**Hyperparameter**"
      ]
    },
    {
      "cell_type": "code",
      "metadata": {
        "id": "PfNl5YCKaPxK",
        "colab_type": "code",
        "colab": {
          "base_uri": "https://localhost:8080/",
          "height": 51
        },
        "outputId": "a3e4d4bc-f316-476b-f7cc-48f4ecac5b6d"
      },
      "source": [
        "grid_l2.best_estimator_"
      ],
      "execution_count": 30,
      "outputs": [
        {
          "output_type": "execute_result",
          "data": {
            "text/plain": [
              "Ridge(alpha=1.0, copy_X=True, fit_intercept=True, max_iter=None,\n",
              "      normalize=False, random_state=None, solver='auto', tol=0.001)"
            ]
          },
          "metadata": {
            "tags": []
          },
          "execution_count": 30
        }
      ]
    },
    {
      "cell_type": "markdown",
      "metadata": {
        "id": "-vVQfsOwtX80",
        "colab_type": "text"
      },
      "source": [
        "**Optimal Parameter**"
      ]
    },
    {
      "cell_type": "code",
      "metadata": {
        "id": "zOOwsSjEaTNl",
        "colab_type": "code",
        "colab": {
          "base_uri": "https://localhost:8080/",
          "height": 119
        },
        "outputId": "4746ad8d-e963-455b-af30-8b7244d02d8d"
      },
      "source": [
        "x = PrettyTable([\"Regularization\", \"Alpha\"])\n",
        "x.add_row([\"Lasso or L1\", grid_l1.best_estimator_.alpha])\n",
        "x.add_row([\"Ridge or L2\", grid_l2.best_estimator_.alpha])\n",
        "print(x)"
      ],
      "execution_count": 31,
      "outputs": [
        {
          "output_type": "stream",
          "text": [
            "+----------------+-------+\n",
            "| Regularization | Alpha |\n",
            "+----------------+-------+\n",
            "|  Lasso or L1   | 0.001 |\n",
            "|  Ridge or L2   |  1.0  |\n",
            "+----------------+-------+\n"
          ],
          "name": "stdout"
        }
      ]
    },
    {
      "cell_type": "markdown",
      "metadata": {
        "id": "0l4KHCgEtCqS",
        "colab_type": "text"
      },
      "source": [
        "<h2>Applying Gradient Descent with L1 and L2 parameters"
      ]
    },
    {
      "cell_type": "code",
      "metadata": {
        "id": "dZRAY91XzRkw",
        "colab_type": "code",
        "colab": {}
      },
      "source": [
        "alpha = 0.01\n",
        "iter_ = 1000\n",
        "lmda_l1 = grid_l1.best_estimator_.alpha\n",
        "lmda_l2 = grid_l2.best_estimator_.alpha\n",
        "\n",
        "B_l1, train_history_l1, test_history_l1 = linear_gradient_descent(X_train, y_train, X_test, y_test, iter_, alpha, lmda_l1, reg='l1')\n",
        "B_l2, train_history_l2, test_history_l2 = linear_gradient_descent(X_train, y_train, X_test, y_test, iter_, alpha, lmda_l2, reg='l2')"
      ],
      "execution_count": 0,
      "outputs": []
    },
    {
      "cell_type": "markdown",
      "metadata": {
        "id": "xyyp4w9V22fg",
        "colab_type": "text"
      },
      "source": [
        "Plots of RMSE v/s iteration For L1 and L2"
      ]
    },
    {
      "cell_type": "code",
      "metadata": {
        "id": "29IXCPKM0zF2",
        "colab_type": "code",
        "colab": {
          "base_uri": "https://localhost:8080/",
          "height": 624
        },
        "outputId": "1e2eadae-77d4-4cdc-ea82-9b8e7728091a"
      },
      "source": [
        "plot_rmse(iter_, train_history_l1, test_history_l1, 'RMSE vs Iteration For L1')\n",
        "print('\\n\\n')\n",
        "plot_rmse(iter_, train_history_l2, test_history_l2, 'RMSE vs Iteration For L2')"
      ],
      "execution_count": 33,
      "outputs": [
        {
          "output_type": "display_data",
          "data": {
            "image/png": "[encoded data removed]",
            "text/plain": [
              "<Figure size 432x288 with 1 Axes>"
            ]
          },
          "metadata": {
            "tags": [],
            "needs_background": "light"
          }
        },
        {
          "output_type": "stream",
          "text": [
            "\n",
            "\n",
            "\n"
          ],
          "name": "stdout"
        },
        {
          "output_type": "display_data",
          "data": {
            "image/png": "[encoded data removed]",
            "text/plain": [
              "<Figure size 432x288 with 1 Axes>"
            ]
          },
          "metadata": {
            "tags": [],
            "needs_background": "light"
          }
        }
      ]
    },
    {
      "cell_type": "code",
      "metadata": {
        "id": "0wE4_kZa2vrg",
        "colab_type": "code",
        "colab": {
          "base_uri": "https://localhost:8080/",
          "height": 153
        },
        "outputId": "977d0788-8f18-4389-c4d3-d081e3e4f717"
      },
      "source": [
        "rmse_df = pd.DataFrame([[train_history_l1[-1], test_history_l1[-1]], \n",
        "                        [train_history_l2[-1], test_history_l2[-1]]], \n",
        "                       columns=['Training Set', 'Testing Set'], index=['L1', 'L2'])\n",
        "\n",
        "print('RMSE of Regularized Linear Regression\\n')\n",
        "from tabulate import tabulate\n",
        "print(tabulate(rmse_df, headers='keys', tablefmt='pretty'))"
      ],
      "execution_count": 34,
      "outputs": [
        {
          "output_type": "stream",
          "text": [
            "RMSE of Regularized Linear Regression\n",
            "\n",
            "+----+-------------------+--------------------+\n",
            "|    |   Training Set    |    Testing Set     |\n",
            "+----+-------------------+--------------------+\n",
            "| L1 | 2.241612772067303 | 2.3728717114059803 |\n",
            "| L2 | 2.241870102312401 | 2.3731179765164074 |\n",
            "+----+-------------------+--------------------+\n"
          ],
          "name": "stdout"
        }
      ]
    },
    {
      "cell_type": "markdown",
      "metadata": {
        "id": "CvdHJiTt4DxP",
        "colab_type": "text"
      },
      "source": [
        "#Question 3"
      ]
    },
    {
      "cell_type": "markdown",
      "metadata": {
        "id": "-5HK9jeryX_W",
        "colab_type": "text"
      },
      "source": [
        "**Importing DataSet**"
      ]
    },
    {
      "cell_type": "code",
      "metadata": {
        "id": "nbkluB6z3zxt",
        "colab_type": "code",
        "colab": {}
      },
      "source": [
        "df = pd.read_csv(\"https://raw.githubusercontent.com/ta-verma/DataSets/master/headbrain.csv\").drop([\"Gender\",\"Age Range\"], axis=1)\n",
        "\n",
        "X = df[\"Head Size(cm^3)\"].values.reshape(len(df), 1)\n",
        "y = df[\"Brain Weight(grams)\"].values.reshape(len(df), 1)"
      ],
      "execution_count": 0,
      "outputs": []
    },
    {
      "cell_type": "markdown",
      "metadata": {
        "id": "jEuZtoMVyc5n",
        "colab_type": "text"
      },
      "source": [
        "Feature Scaling"
      ]
    },
    {
      "cell_type": "code",
      "metadata": {
        "id": "15vqbHmkFEbX",
        "colab_type": "code",
        "colab": {}
      },
      "source": [
        "X = scaler.fit_transform(X)"
      ],
      "execution_count": 0,
      "outputs": []
    },
    {
      "cell_type": "markdown",
      "metadata": {
        "id": "q18AQ135yfqI",
        "colab_type": "text"
      },
      "source": [
        "**Defining Plot of Regression Line**"
      ]
    },
    {
      "cell_type": "code",
      "metadata": {
        "id": "a5e7pgljnWBo",
        "colab_type": "code",
        "colab": {}
      },
      "source": [
        "def plot_regression_line(X, y, y_pred, title=None):\n",
        "  plt.scatter(X,y ,color = 'c' ,label = \"Scatter Plot\")\n",
        "  plt.plot(X,y_pred_linear ,color = 'r' , label = \"Regression Line\")\n",
        "  plt.title(title)\n",
        "  plt.xlabel(\"Head Size(cm^3)\")\n",
        "  plt.ylabel(\"Brain Weight(grams)\")\n",
        "  plt.legend()\n",
        "  plt.show()"
      ],
      "execution_count": 0,
      "outputs": []
    },
    {
      "cell_type": "markdown",
      "metadata": {
        "id": "VPOPkoPmvAlj",
        "colab_type": "text"
      },
      "source": [
        "**<h3>Simple Linear Regression**"
      ]
    },
    {
      "cell_type": "code",
      "metadata": {
        "id": "-WlrptZc4doG",
        "colab_type": "code",
        "colab": {
          "base_uri": "https://localhost:8080/",
          "height": 363
        },
        "outputId": "64301079-2612-4721-a389-8ea131aa87a2"
      },
      "source": [
        "X_mean = np.mean(X)\n",
        "Y_mean = np.mean(y)\n",
        "n = len(X)\n",
        "\n",
        "num = 0\n",
        "den = 0\n",
        "for i in range(n):\n",
        "    num += (X[i]-X_mean) * (y[i] - Y_mean)\n",
        "    den += (X[i]-X_mean) ** 2\n",
        "\n",
        "B1 = num/den\n",
        "B0 = Y_mean - B1 * X_mean\n",
        "print(\"B0 = \",B0)\n",
        "print(\"B1 = \",B1)\n",
        "print()\n",
        "\n",
        "y_pred_linear = B1 * X + B0\n",
        "\n",
        "plot_regression_line(X, y, y_pred_linear, \"Simple Linear Regression\")\n",
        "\n",
        "print(\"RMSE :\",rmse(y, y_pred_linear))"
      ],
      "execution_count": 38,
      "outputs": [
        {
          "output_type": "stream",
          "text": [
            "B0 =  [1282.87341772]\n",
            "B1 =  [96.01736367]\n",
            "\n"
          ],
          "name": "stdout"
        },
        {
          "output_type": "display_data",
          "data": {
            "image/png": "[encoded data removed]",
            "text/plain": [
              "<Figure size 432x288 with 1 Axes>"
            ]
          },
          "metadata": {
            "tags": [],
            "needs_background": "light"
          }
        },
        {
          "output_type": "stream",
          "text": [
            "RMSE : 72.1206213783709\n"
          ],
          "name": "stdout"
        }
      ]
    },
    {
      "cell_type": "markdown",
      "metadata": {
        "id": "Nzn5cXuTvLSA",
        "colab_type": "text"
      },
      "source": [
        "**<h2> Linear Regression with Gradient Descent**"
      ]
    },
    {
      "cell_type": "code",
      "metadata": {
        "id": "_5SXoy7y8GwE",
        "colab_type": "code",
        "colab": {
          "base_uri": "https://localhost:8080/",
          "height": 295
        },
        "outputId": "8a1a102e-3577-4cae-9f2f-1a9abe3e3933"
      },
      "source": [
        "epoch = 100\n",
        "alpha = 0.1\n",
        "\n",
        "B = simple_linear_gradient_descent(X, y, epoch, alpha )\n",
        "y_pred = predict(X, B)\n",
        "\n",
        "plot_regression_line(X, y, y_pred, \"Linear Regression with Gradien Descent\")"
      ],
      "execution_count": 39,
      "outputs": [
        {
          "output_type": "display_data",
          "data": {
            "image/png": "[encoded data removed]",
            "text/plain": [
              "<Figure size 432x288 with 1 Axes>"
            ]
          },
          "metadata": {
            "tags": [],
            "needs_background": "light"
          }
        }
      ]
    },
    {
      "cell_type": "markdown",
      "metadata": {
        "id": "PBJsiJ3e6sAA",
        "colab_type": "text"
      },
      "source": [
        "**Lasso Regression**"
      ]
    },
    {
      "cell_type": "code",
      "metadata": {
        "id": "0Nj0m6GV6m4K",
        "colab_type": "code",
        "colab": {
          "base_uri": "https://localhost:8080/",
          "height": 329
        },
        "outputId": "83c1b86b-8030-425d-e66a-e08faa6e2cfb"
      },
      "source": [
        "lasso = Lasso()\n",
        "\n",
        "parameters = {'alpha': [1e-15, 1e-10, 1e-8, 1e-4, 1e-3,1e-2, 1, 5, 10, 20]}\n",
        "\n",
        "lasso_regressor = GridSearchCV(lasso, parameters,scoring='neg_mean_squared_error', cv=5)\n",
        "lasso_regressor.fit(X, y)\n",
        "print()\n",
        "print(lasso_regressor.best_params_)\n",
        "\n",
        "epoch = 100\n",
        "alpha = 0.1\n",
        "lmda = lasso_regressor.best_estimator_.alpha\n",
        "B = simple_linear_gradient_descent(X, y, epoch, alpha, lmda, reg='l1' )\n",
        "y_pred = predict(X, B)\n",
        "\n",
        "plot_regression_line(X, y, y_pred, \"Lasso Regression\")"
      ],
      "execution_count": 40,
      "outputs": [
        {
          "output_type": "stream",
          "text": [
            "\n",
            "{'alpha': 1e-15}\n"
          ],
          "name": "stdout"
        },
        {
          "output_type": "display_data",
          "data": {
            "image/png": "[encoded data removed]",
            "text/plain": [
              "<Figure size 432x288 with 1 Axes>"
            ]
          },
          "metadata": {
            "tags": [],
            "needs_background": "light"
          }
        }
      ]
    },
    {
      "cell_type": "markdown",
      "metadata": {
        "id": "xnLdjLmq6l2d",
        "colab_type": "text"
      },
      "source": [
        "**Ridge Regression**"
      ]
    },
    {
      "cell_type": "code",
      "metadata": {
        "id": "zlBwxoeG5gx7",
        "colab_type": "code",
        "colab": {
          "base_uri": "https://localhost:8080/",
          "height": 312
        },
        "outputId": "baefe3df-0c8f-45b2-ef5c-c49f0db87cfd"
      },
      "source": [
        "ridge = Ridge()\n",
        "\n",
        "parameters = {'alpha': [1e-15, 1e-10, 1e-8, 1e-4, 1e-3,1e-2, 1, 5, 10, 20]}\n",
        "\n",
        "ridge_regressor = GridSearchCV(ridge, parameters,scoring='neg_mean_squared_error', cv=5)\n",
        "ridge_regressor.fit(X, y)\n",
        "print(ridge_regressor.best_params_)\n",
        "\n",
        "epoch = 100\n",
        "alpha = 0.1\n",
        "lmda = ridge_regressor.best_estimator_.alpha\n",
        "B = simple_linear_gradient_descent(X, y, epoch, alpha, lmda, reg='l2' )\n",
        "y_pred = predict(X, B)\n",
        "\n",
        "plot_regression_line(X, y, y_pred, \"Ridge Regression\")"
      ],
      "execution_count": 41,
      "outputs": [
        {
          "output_type": "stream",
          "text": [
            "{'alpha': 1e-15}\n"
          ],
          "name": "stdout"
        },
        {
          "output_type": "display_data",
          "data": {
            "image/png": "[encoded data removed]",
            "text/plain": [
              "<Figure size 432x288 with 1 Axes>"
            ]
          },
          "metadata": {
            "tags": [],
            "needs_background": "light"
          }
        }
      ]
    }
  ]
}